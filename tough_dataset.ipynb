{
 "cells": [
  {
   "cell_type": "markdown",
   "metadata": {
    "id": "bXSd7rGrudO7"
   },
   "source": [
    "# Importing the important libraries and loading the dataset"
   ]
  },
  {
   "cell_type": "code",
   "execution_count": null,
   "metadata": {
    "colab": {
     "base_uri": "https://localhost:8080/",
     "height": 618
    },
    "id": "xolAbGaCu2wD",
    "outputId": "d94cd231-9fac-4efd-c1cb-f060459926eb"
   },
   "outputs": [
    {
     "data": {
      "text/html": [
       "<div>\n",
       "<style scoped>\n",
       "    .dataframe tbody tr th:only-of-type {\n",
       "        vertical-align: middle;\n",
       "    }\n",
       "\n",
       "    .dataframe tbody tr th {\n",
       "        vertical-align: top;\n",
       "    }\n",
       "\n",
       "    .dataframe thead th {\n",
       "        text-align: right;\n",
       "    }\n",
       "</style>\n",
       "<table border=\"1\" class=\"dataframe\">\n",
       "  <thead>\n",
       "    <tr style=\"text-align: right;\">\n",
       "      <th></th>\n",
       "      <th>Target A</th>\n",
       "      <th>Target B</th>\n",
       "      <th>LOAN_AMT</th>\n",
       "      <th>Business Title</th>\n",
       "      <th>Civil Service Title</th>\n",
       "      <th>Division/Work Unit</th>\n",
       "      <th>Job Description</th>\n",
       "      <th>Minimum Qual Requirements</th>\n",
       "      <th>Preferred Skills</th>\n",
       "      <th>Additional Information</th>\n",
       "      <th>To Apply</th>\n",
       "      <th>Hours/Shift</th>\n",
       "      <th>Residency Requirement</th>\n",
       "      <th>Posting Date</th>\n",
       "      <th>Posting Updated</th>\n",
       "      <th>Process Date</th>\n",
       "      <th>FormalEducation</th>\n",
       "      <th>UndergradMajor</th>\n",
       "      <th>CompanySize</th>\n",
       "      <th>DevType</th>\n",
       "      <th>YearsCoding</th>\n",
       "      <th>YearsCodingProf</th>\n",
       "      <th>HopeFiveYears</th>\n",
       "      <th>JobSearchStatus</th>\n",
       "      <th>LastNewJob</th>\n",
       "      <th>UpdateCV</th>\n",
       "      <th>CommunicationTools</th>\n",
       "      <th>TimeFullyProductive</th>\n",
       "      <th>EducationTypes</th>\n",
       "      <th>SelfTaughtTypes</th>\n",
       "      <th>TimeAfterBootcamp</th>\n",
       "      <th>HackathonReasons</th>\n",
       "      <th>AgreeDisagree1</th>\n",
       "      <th>AgreeDisagree2</th>\n",
       "      <th>AgreeDisagree3</th>\n",
       "      <th>LanguageWorkedWith</th>\n",
       "      <th>LanguageDesireNextYear</th>\n",
       "      <th>DatabaseWorkedWith</th>\n",
       "      <th>DatabaseDesireNextYear</th>\n",
       "      <th>PlatformWorkedWith</th>\n",
       "      <th>PlatformDesireNextYear</th>\n",
       "      <th>FrameworkWorkedWith</th>\n",
       "      <th>FrameworkDesireNextYear</th>\n",
       "      <th>IDE</th>\n",
       "      <th>OperatingSystem</th>\n",
       "      <th>Methodology</th>\n",
       "      <th>VersionControl</th>\n",
       "      <th>CheckInCode</th>\n",
       "      <th>AIDangerous</th>\n",
       "      <th>AIInteresting</th>\n",
       "      <th>AIResponsible</th>\n",
       "      <th>AIFuture</th>\n",
       "      <th>Age</th>\n",
       "      <th>term</th>\n",
       "      <th>emp_length</th>\n",
       "      <th>loan_status</th>\n",
       "      <th>pymnt_plan</th>\n",
       "      <th>url</th>\n",
       "      <th>purpose</th>\n",
       "      <th>title</th>\n",
       "      <th>zip_code</th>\n",
       "      <th>addr_state</th>\n",
       "      <th>dti</th>\n",
       "      <th>earliest_cr_line</th>\n",
       "      <th>last_pymnt_d</th>\n",
       "      <th>last_pymnt_amnt</th>\n",
       "      <th>next_pymnt_d</th>\n",
       "      <th>last_credit_pull_d</th>\n",
       "    </tr>\n",
       "  </thead>\n",
       "  <tbody>\n",
       "    <tr>\n",
       "      <th>0</th>\n",
       "      <td>42405.00</td>\n",
       "      <td>0</td>\n",
       "      <td>3600</td>\n",
       "      <td>Account Manager</td>\n",
       "      <td>CONTRACT REVIEWER (OFFICE OF L</td>\n",
       "      <td>Strategy &amp; Analytics</td>\n",
       "      <td>Division of Economic &amp; Financial Opportunity (...</td>\n",
       "      <td>1.\\tA baccalaureate degree from an accredited ...</td>\n",
       "      <td>•\\tExcellent interpersonal and organizational ...</td>\n",
       "      <td>Salary range for this position is: $42,405 - $...</td>\n",
       "      <td>NaN</td>\n",
       "      <td>NaN</td>\n",
       "      <td>New York City residency is generally required ...</td>\n",
       "      <td>2011-06-24T00:00:00.000</td>\n",
       "      <td>2011-06-24T00:00:00.000</td>\n",
       "      <td>2019-12-17T00:00:00.000</td>\n",
       "      <td>Bachelor�s degree (BA, BS, B.Eng., etc.)</td>\n",
       "      <td>Mathematics or statistics</td>\n",
       "      <td>20 to 99 employees</td>\n",
       "      <td>Full-stack developer</td>\n",
       "      <td>3-5 years</td>\n",
       "      <td>3-5 years</td>\n",
       "      <td>Working as a founder or co-founder of my own c...</td>\n",
       "      <td>I�m not actively looking, but I am open to new...</td>\n",
       "      <td>Less than a year ago</td>\n",
       "      <td>My job status or other personal status changed</td>\n",
       "      <td>Slack</td>\n",
       "      <td>One to three months</td>\n",
       "      <td>Taught yourself a new language, framework, or ...</td>\n",
       "      <td>The official documentation and/or standards fo...</td>\n",
       "      <td>NaN</td>\n",
       "      <td>To build my professional network</td>\n",
       "      <td>Strongly agree</td>\n",
       "      <td>Strongly agree</td>\n",
       "      <td>Neither Agree nor Disagree</td>\n",
       "      <td>JavaScript;Python;HTML;CSS</td>\n",
       "      <td>JavaScript;Python;HTML;CSS</td>\n",
       "      <td>Redis;SQL Server;MySQL;PostgreSQL;Amazon RDS/A...</td>\n",
       "      <td>Redis;SQL Server;MySQL;PostgreSQL;Amazon RDS/A...</td>\n",
       "      <td>AWS;Azure;Linux;Firebase</td>\n",
       "      <td>AWS;Azure;Linux;Firebase</td>\n",
       "      <td>Django;React</td>\n",
       "      <td>Django;React</td>\n",
       "      <td>Komodo;Vim;Visual Studio Code</td>\n",
       "      <td>Linux-based</td>\n",
       "      <td>Agile;Scrum</td>\n",
       "      <td>Git</td>\n",
       "      <td>Multiple times per day</td>\n",
       "      <td>Artificial intelligence surpassing human intel...</td>\n",
       "      <td>Algorithms making important decisions</td>\n",
       "      <td>The developers or the people creating the AI</td>\n",
       "      <td>I'm excited about the possibilities more than ...</td>\n",
       "      <td>25 - 34 years old</td>\n",
       "      <td>36 months</td>\n",
       "      <td>10+ years</td>\n",
       "      <td>Fully Paid</td>\n",
       "      <td>n</td>\n",
       "      <td>https://lendingclub.com/browse/loanDetail.acti...</td>\n",
       "      <td>debt_consolidation</td>\n",
       "      <td>Debt consolidation</td>\n",
       "      <td>190xx</td>\n",
       "      <td>PA</td>\n",
       "      <td>5.91</td>\n",
       "      <td>3-Aug</td>\n",
       "      <td>19-Jan</td>\n",
       "      <td>122.67</td>\n",
       "      <td>NaN</td>\n",
       "      <td>19-Mar</td>\n",
       "    </tr>\n",
       "    <tr>\n",
       "      <th>1</th>\n",
       "      <td>60740.00</td>\n",
       "      <td>1</td>\n",
       "      <td>24700</td>\n",
       "      <td>EXECUTIVE DIRECTOR, BUSINESS DEVELOPMENT</td>\n",
       "      <td>ADMINISTRATIVE BUSINESS PROMOT</td>\n",
       "      <td>Tech Talent Pipeline</td>\n",
       "      <td>The New York City Department of Small Business...</td>\n",
       "      <td>1. A baccalaureate degree from an accredited c...</td>\n",
       "      <td>NaN</td>\n",
       "      <td>NaN</td>\n",
       "      <td>In addition to applying through this website, ...</td>\n",
       "      <td>NaN</td>\n",
       "      <td>New York City residency is generally required ...</td>\n",
       "      <td>2012-01-26T00:00:00.000</td>\n",
       "      <td>2012-01-26T00:00:00.000</td>\n",
       "      <td>2019-12-17T00:00:00.000</td>\n",
       "      <td>Bachelor�s degree (BA, BS, B.Eng., etc.)</td>\n",
       "      <td>A natural science (ex. biology, chemistry, phy...</td>\n",
       "      <td>10,000 or more employees</td>\n",
       "      <td>Database administrator;DevOps specialist;Full-...</td>\n",
       "      <td>30 or more years</td>\n",
       "      <td>18-20 years</td>\n",
       "      <td>Working in a different or more specialized tec...</td>\n",
       "      <td>I am actively looking for a job</td>\n",
       "      <td>More than 4 years ago</td>\n",
       "      <td>I saw an employer�s advertisement</td>\n",
       "      <td>Confluence;Office / productivity suite (Micros...</td>\n",
       "      <td>One to three months</td>\n",
       "      <td>Taught yourself a new language, framework, or ...</td>\n",
       "      <td>The official documentation and/or standards fo...</td>\n",
       "      <td>NaN</td>\n",
       "      <td>NaN</td>\n",
       "      <td>Agree</td>\n",
       "      <td>Agree</td>\n",
       "      <td>Neither Agree nor Disagree</td>\n",
       "      <td>JavaScript;Python;Bash/Shell</td>\n",
       "      <td>Go;Python</td>\n",
       "      <td>Redis;PostgreSQL;Memcached</td>\n",
       "      <td>PostgreSQL</td>\n",
       "      <td>Linux</td>\n",
       "      <td>Linux</td>\n",
       "      <td>Django</td>\n",
       "      <td>React</td>\n",
       "      <td>IPython / Jupyter;Sublime Text;Vim</td>\n",
       "      <td>Linux-based</td>\n",
       "      <td>NaN</td>\n",
       "      <td>Git;Subversion</td>\n",
       "      <td>A few times per week</td>\n",
       "      <td>Increasing automation of jobs</td>\n",
       "      <td>Increasing automation of jobs</td>\n",
       "      <td>The developers or the people creating the AI</td>\n",
       "      <td>I'm excited about the possibilities more than ...</td>\n",
       "      <td>35 - 44 years old</td>\n",
       "      <td>36 months</td>\n",
       "      <td>10+ years</td>\n",
       "      <td>Fully Paid</td>\n",
       "      <td>n</td>\n",
       "      <td>https://lendingclub.com/browse/loanDetail.acti...</td>\n",
       "      <td>small_business</td>\n",
       "      <td>Business</td>\n",
       "      <td>577xx</td>\n",
       "      <td>SD</td>\n",
       "      <td>16.06</td>\n",
       "      <td>Dec-99</td>\n",
       "      <td>16-Jun</td>\n",
       "      <td>926.35</td>\n",
       "      <td>NaN</td>\n",
       "      <td>19-Mar</td>\n",
       "    </tr>\n",
       "    <tr>\n",
       "      <th>2</th>\n",
       "      <td>51907.68</td>\n",
       "      <td>0</td>\n",
       "      <td>20000</td>\n",
       "      <td>Maintenance Worker - Technical Services-Heatin...</td>\n",
       "      <td>MAINTENANCE WORKER</td>\n",
       "      <td>Management Services Department</td>\n",
       "      <td>Under direct supervision, assist in the routin...</td>\n",
       "      <td>1. Three years of full-time satisfactory exper...</td>\n",
       "      <td>1.  A High School Diploma or GED.  2.  CDL Dri...</td>\n",
       "      <td>1.  A Motor Vehicle Driver’s License valid in ...</td>\n",
       "      <td>Click the \"Apply Now\" button.</td>\n",
       "      <td>NaN</td>\n",
       "      <td>NYCHA has no residency requirements.</td>\n",
       "      <td>2013-10-24T00:00:00.000</td>\n",
       "      <td>2013-12-12T00:00:00.000</td>\n",
       "      <td>2019-12-17T00:00:00.000</td>\n",
       "      <td>Associate degree</td>\n",
       "      <td>Computer science, computer engineering, or sof...</td>\n",
       "      <td>20 to 99 employees</td>\n",
       "      <td>Engineering manager;Full-stack developer</td>\n",
       "      <td>24-26 years</td>\n",
       "      <td>6-8 years</td>\n",
       "      <td>Working as a founder or co-founder of my own c...</td>\n",
       "      <td>I�m not actively looking, but I am open to new...</td>\n",
       "      <td>Less than a year ago</td>\n",
       "      <td>NaN</td>\n",
       "      <td>NaN</td>\n",
       "      <td>NaN</td>\n",
       "      <td>NaN</td>\n",
       "      <td>NaN</td>\n",
       "      <td>NaN</td>\n",
       "      <td>NaN</td>\n",
       "      <td>NaN</td>\n",
       "      <td>NaN</td>\n",
       "      <td>NaN</td>\n",
       "      <td>NaN</td>\n",
       "      <td>NaN</td>\n",
       "      <td>NaN</td>\n",
       "      <td>NaN</td>\n",
       "      <td>NaN</td>\n",
       "      <td>NaN</td>\n",
       "      <td>NaN</td>\n",
       "      <td>NaN</td>\n",
       "      <td>NaN</td>\n",
       "      <td>NaN</td>\n",
       "      <td>NaN</td>\n",
       "      <td>NaN</td>\n",
       "      <td>NaN</td>\n",
       "      <td>NaN</td>\n",
       "      <td>NaN</td>\n",
       "      <td>NaN</td>\n",
       "      <td>NaN</td>\n",
       "      <td>NaN</td>\n",
       "      <td>60 months</td>\n",
       "      <td>10+ years</td>\n",
       "      <td>Fully Paid</td>\n",
       "      <td>n</td>\n",
       "      <td>https://lendingclub.com/browse/loanDetail.acti...</td>\n",
       "      <td>home_improvement</td>\n",
       "      <td>NaN</td>\n",
       "      <td>605xx</td>\n",
       "      <td>IL</td>\n",
       "      <td>10.78</td>\n",
       "      <td>Aug-00</td>\n",
       "      <td>17-Jun</td>\n",
       "      <td>15813.30</td>\n",
       "      <td>NaN</td>\n",
       "      <td>19-Mar</td>\n",
       "    </tr>\n",
       "    <tr>\n",
       "      <th>3</th>\n",
       "      <td>51907.68</td>\n",
       "      <td>0</td>\n",
       "      <td>35000</td>\n",
       "      <td>Maintenance Worker - Technical Services-Heatin...</td>\n",
       "      <td>MAINTENANCE WORKER</td>\n",
       "      <td>Management Services Department</td>\n",
       "      <td>Under direct supervision, assist in the routin...</td>\n",
       "      <td>1. Three years of full-time satisfactory exper...</td>\n",
       "      <td>1.  A High School Diploma or GED.  2.  CDL Dri...</td>\n",
       "      <td>1.  A Motor Vehicle Driver’s License valid in ...</td>\n",
       "      <td>Click the \"Apply Now\" button.</td>\n",
       "      <td>NaN</td>\n",
       "      <td>NYCHA has no residency requirements.</td>\n",
       "      <td>2013-10-24T00:00:00.000</td>\n",
       "      <td>2013-12-12T00:00:00.000</td>\n",
       "      <td>2019-12-17T00:00:00.000</td>\n",
       "      <td>Bachelor�s degree (BA, BS, B.Eng., etc.)</td>\n",
       "      <td>Computer science, computer engineering, or sof...</td>\n",
       "      <td>100 to 499 employees</td>\n",
       "      <td>Full-stack developer</td>\n",
       "      <td>18-20 years</td>\n",
       "      <td>12-14 years</td>\n",
       "      <td>Working as a founder or co-founder of my own c...</td>\n",
       "      <td>I�m not actively looking, but I am open to new...</td>\n",
       "      <td>Less than a year ago</td>\n",
       "      <td>A recruiter contacted me</td>\n",
       "      <td>NaN</td>\n",
       "      <td>Three to six months</td>\n",
       "      <td>Completed an industry certification program (e...</td>\n",
       "      <td>The official documentation and/or standards fo...</td>\n",
       "      <td>NaN</td>\n",
       "      <td>NaN</td>\n",
       "      <td>Disagree</td>\n",
       "      <td>Disagree</td>\n",
       "      <td>Strongly disagree</td>\n",
       "      <td>C#;JavaScript;SQL;TypeScript;HTML;CSS;Bash/Shell</td>\n",
       "      <td>C#;JavaScript;SQL;TypeScript;HTML;CSS;Bash/Shell</td>\n",
       "      <td>SQL Server;Microsoft Azure (Tables, CosmosDB, ...</td>\n",
       "      <td>SQL Server;Microsoft Azure (Tables, CosmosDB, ...</td>\n",
       "      <td>Azure</td>\n",
       "      <td>Azure</td>\n",
       "      <td>NaN</td>\n",
       "      <td>Angular;.NET Core;React</td>\n",
       "      <td>Visual Studio;Visual Studio Code</td>\n",
       "      <td>Windows</td>\n",
       "      <td>Agile;Kanban;Scrum</td>\n",
       "      <td>Git</td>\n",
       "      <td>Multiple times per day</td>\n",
       "      <td>Artificial intelligence surpassing human intel...</td>\n",
       "      <td>Artificial intelligence surpassing human intel...</td>\n",
       "      <td>A governmental or other regulatory body</td>\n",
       "      <td>I don't care about it, or I haven't thought ab...</td>\n",
       "      <td>35 - 44 years old</td>\n",
       "      <td>60 months</td>\n",
       "      <td>10+ years</td>\n",
       "      <td>Current</td>\n",
       "      <td>n</td>\n",
       "      <td>https://lendingclub.com/browse/loanDetail.acti...</td>\n",
       "      <td>debt_consolidation</td>\n",
       "      <td>Debt consolidation</td>\n",
       "      <td>076xx</td>\n",
       "      <td>NJ</td>\n",
       "      <td>17.06</td>\n",
       "      <td>8-Sep</td>\n",
       "      <td>19-Feb</td>\n",
       "      <td>829.90</td>\n",
       "      <td>19-Apr</td>\n",
       "      <td>19-Mar</td>\n",
       "    </tr>\n",
       "    <tr>\n",
       "      <th>4</th>\n",
       "      <td>35.00</td>\n",
       "      <td>1</td>\n",
       "      <td>10400</td>\n",
       "      <td>Temporary Painter</td>\n",
       "      <td>PAINTER</td>\n",
       "      <td>Dept of Management &amp; Planning</td>\n",
       "      <td>Responsibilities of selected candidates will i...</td>\n",
       "      <td>1. Five years of full-time satisfactory experi...</td>\n",
       "      <td>NaN</td>\n",
       "      <td>SPECIAL NOTE:    1.  This is a temporary assig...</td>\n",
       "      <td>Click the \"Apply Now\" button.</td>\n",
       "      <td>NaN</td>\n",
       "      <td>NYCHA has no residency requirement.</td>\n",
       "      <td>2014-01-09T00:00:00.000</td>\n",
       "      <td>2014-01-08T00:00:00.000</td>\n",
       "      <td>2019-12-17T00:00:00.000</td>\n",
       "      <td>Some college/university study without earning ...</td>\n",
       "      <td>Computer science, computer engineering, or sof...</td>\n",
       "      <td>10,000 or more employees</td>\n",
       "      <td>Data or business analyst;Desktop or enterprise...</td>\n",
       "      <td>6-8 years</td>\n",
       "      <td>0-2 years</td>\n",
       "      <td>Working in a different or more specialized tec...</td>\n",
       "      <td>I�m not actively looking, but I am open to new...</td>\n",
       "      <td>Between 1 and 2 years ago</td>\n",
       "      <td>My job status or other personal status changed</td>\n",
       "      <td>Office / productivity suite (Microsoft Office,...</td>\n",
       "      <td>Three to six months</td>\n",
       "      <td>Taken a part-time in-person course in programm...</td>\n",
       "      <td>The official documentation and/or standards fo...</td>\n",
       "      <td>NaN</td>\n",
       "      <td>NaN</td>\n",
       "      <td>Strongly agree</td>\n",
       "      <td>Agree</td>\n",
       "      <td>Strongly disagree</td>\n",
       "      <td>C;C++;Java;Matlab;R;SQL;Bash/Shell</td>\n",
       "      <td>Assembly;C;C++;Matlab;SQL;Bash/Shell</td>\n",
       "      <td>SQL Server;PostgreSQL;Oracle;IBM Db2</td>\n",
       "      <td>PostgreSQL;Oracle;IBM Db2</td>\n",
       "      <td>Arduino;Windows Desktop or Server</td>\n",
       "      <td>Arduino;Windows Desktop or Server</td>\n",
       "      <td>NaN</td>\n",
       "      <td>NaN</td>\n",
       "      <td>Notepad++;Visual Studio;Visual Studio Code</td>\n",
       "      <td>Windows</td>\n",
       "      <td>Evidence-based software engineering;Formal sta...</td>\n",
       "      <td>Zip file back-ups</td>\n",
       "      <td>Weekly or a few times per month</td>\n",
       "      <td>Algorithms making important decisions</td>\n",
       "      <td>Algorithms making important decisions</td>\n",
       "      <td>The developers or the people creating the AI</td>\n",
       "      <td>I'm excited about the possibilities more than ...</td>\n",
       "      <td>18 - 24 years old</td>\n",
       "      <td>60 months</td>\n",
       "      <td>3 years</td>\n",
       "      <td>Fully Paid</td>\n",
       "      <td>n</td>\n",
       "      <td>https://lendingclub.com/browse/loanDetail.acti...</td>\n",
       "      <td>major_purchase</td>\n",
       "      <td>Major purchase</td>\n",
       "      <td>174xx</td>\n",
       "      <td>PA</td>\n",
       "      <td>25.37</td>\n",
       "      <td>Jun-98</td>\n",
       "      <td>16-Jul</td>\n",
       "      <td>10128.96</td>\n",
       "      <td>NaN</td>\n",
       "      <td>18-Mar</td>\n",
       "    </tr>\n",
       "  </tbody>\n",
       "</table>\n",
       "</div>"
      ],
      "text/plain": [
       "   Target A  Target B  ...  next_pymnt_d last_credit_pull_d\n",
       "0  42405.00         0  ...           NaN             19-Mar\n",
       "1  60740.00         1  ...           NaN             19-Mar\n",
       "2  51907.68         0  ...           NaN             19-Mar\n",
       "3  51907.68         0  ...        19-Apr             19-Mar\n",
       "4     35.00         1  ...           NaN             18-Mar\n",
       "\n",
       "[5 rows x 68 columns]"
      ]
     },
     "execution_count": 516,
     "metadata": {
      "tags": []
     },
     "output_type": "execute_result"
    }
   ],
   "source": [
    "import pandas as pd\n",
    "import numpy as np\n",
    "import nltk\n",
    "import seaborn as sb\n",
    "import matplotlib.pyplot as plt\n",
    "import re\n",
    "from nltk.stem.porter import PorterStemmer\n",
    "from nltk.corpus import stopwords\n",
    "plt.style.use(\"seaborn\")\n",
    "from sklearn.preprocessing import LabelEncoder\n",
    "le=LabelEncoder()\n",
    "df=pd.read_csv(r\"/content/tough_dataset.csv\",engine=\"python\")\n",
    "df.drop(\"id\",1,inplace=True)\n",
    "df.head()"
   ]
  },
  {
   "cell_type": "markdown",
   "metadata": {
    "id": "37drDEuO2DDT"
   },
   "source": [
    "# Splitting data into train and test"
   ]
  },
  {
   "cell_type": "code",
   "execution_count": null,
   "metadata": {
    "id": "3aRH00WYvY9U"
   },
   "outputs": [],
   "source": [
    "from sklearn.model_selection import train_test_split as tts\n",
    "train,test=tts(df,test_size=0.2,shuffle=True,random_state=20)"
   ]
  },
  {
   "cell_type": "code",
   "execution_count": null,
   "metadata": {
    "colab": {
     "base_uri": "https://localhost:8080/"
    },
    "id": "Ez38Aee_2j8Y",
    "outputId": "73195683-0f00-4c70-e5f2-7f811facd996"
   },
   "outputs": [
    {
     "data": {
      "text/plain": [
       "((2356, 68), (590, 68))"
      ]
     },
     "execution_count": 518,
     "metadata": {
      "tags": []
     },
     "output_type": "execute_result"
    }
   ],
   "source": [
    "train.shape,test.shape"
   ]
  },
  {
   "cell_type": "markdown",
   "metadata": {
    "id": "icW9czTe2wTq"
   },
   "source": [
    "# Dropping duplicate rows"
   ]
  },
  {
   "cell_type": "code",
   "execution_count": null,
   "metadata": {
    "colab": {
     "base_uri": "https://localhost:8080/"
    },
    "id": "8as03jOo2k7A",
    "outputId": "87a93d32-2fad-4044-8769-3e3c2d379d8c"
   },
   "outputs": [
    {
     "data": {
      "text/plain": [
       "((2356, 68), (590, 68))"
      ]
     },
     "execution_count": 519,
     "metadata": {
      "tags": []
     },
     "output_type": "execute_result"
    }
   ],
   "source": [
    "train=train.drop_duplicates()\n",
    "test=test.drop_duplicates()\n",
    "train.shape,test.shape"
   ]
  },
  {
   "cell_type": "markdown",
   "metadata": {
    "id": "ozV-FoDAU0DF"
   },
   "source": [
    "# Creating a text cleaning function"
   ]
  },
  {
   "cell_type": "code",
   "execution_count": null,
   "metadata": {
    "id": "MbtA79l7Uy3O"
   },
   "outputs": [],
   "source": [
    "def clean_text(x,data):\n",
    "  ps = PorterStemmer()\n",
    "  for i in range(len(data)):\n",
    "    x=re.sub('[^a-zA-Z]', ' ',x)\n",
    "    x=x.split()\n",
    "    x=[ps.stem(word) for word in x if not word in stopwords.words('english')]\n",
    "    x=' '.join(x)\n",
    "\n",
    "    return x"
   ]
  },
  {
   "cell_type": "markdown",
   "metadata": {
    "id": "RvKksiapsDaG"
   },
   "source": [
    "# Creating a function to fill null values, clean text and encode the values of every categorical variable"
   ]
  },
  {
   "cell_type": "code",
   "execution_count": null,
   "metadata": {
    "id": "AbZpqsmzpzfe"
   },
   "outputs": [],
   "source": [
    "def cat_clean(variable):\n",
    "  train[variable].fillna(train[variable].mode()[0],inplace=True)\n",
    "  test[variable].fillna(test[variable].mode()[0],inplace=True)\n",
    "\n",
    "  train[variable]=train[variable].apply(lambda x:clean_text(x,train))\n",
    "  test[variable]=test[variable].apply(lambda x:clean_text(x,test))\n",
    "\n",
    "  train[variable]=le.fit_transform(train[variable])\n",
    "  test[variable]=le.fit_transform(test[variable])"
   ]
  },
  {
   "cell_type": "markdown",
   "metadata": {
    "id": "DE6yg7wPC6el"
   },
   "source": [
    "# Univariate Analysis of each independent variable\n",
    "## 'LOAN_AMT'"
   ]
  },
  {
   "cell_type": "code",
   "execution_count": null,
   "metadata": {
    "colab": {
     "base_uri": "https://localhost:8080/"
    },
    "id": "sWMKlZss26Nd",
    "outputId": "e55134a0-5485-427d-e019-6d69a7a9894f"
   },
   "outputs": [
    {
     "data": {
      "text/plain": [
       "(0, 0)"
      ]
     },
     "execution_count": 522,
     "metadata": {
      "tags": []
     },
     "output_type": "execute_result"
    }
   ],
   "source": [
    "train[\"LOAN_AMT\"].isnull().sum(),test[\"LOAN_AMT\"].isnull().sum()"
   ]
  },
  {
   "cell_type": "code",
   "execution_count": null,
   "metadata": {
    "colab": {
     "base_uri": "https://localhost:8080/"
    },
    "id": "-5E3jkbv3Hd8",
    "outputId": "310bca1b-68e1-453f-e1bf-9cb7aa53120e"
   },
   "outputs": [
    {
     "data": {
      "text/plain": [
       "count     2356.000000\n",
       "mean     15325.435059\n",
       "std       8672.104017\n",
       "min       1000.000000\n",
       "25%       8581.250000\n",
       "50%      14400.000000\n",
       "75%      20000.000000\n",
       "max      35000.000000\n",
       "Name: LOAN_AMT, dtype: float64"
      ]
     },
     "execution_count": 523,
     "metadata": {
      "tags": []
     },
     "output_type": "execute_result"
    }
   ],
   "source": [
    "train[\"LOAN_AMT\"].describe()"
   ]
  },
  {
   "cell_type": "code",
   "execution_count": null,
   "metadata": {
    "colab": {
     "base_uri": "https://localhost:8080/",
     "height": 378
    },
    "id": "q4hMlebBDZji",
    "outputId": "8e8b6dc1-3595-499e-fa7a-cd45d7adf79b"
   },
   "outputs": [
    {
     "data": {
      "text/plain": [
       "<matplotlib.axes._subplots.AxesSubplot at 0x7f7305922f50>"
      ]
     },
     "execution_count": 524,
     "metadata": {
      "tags": []
     },
     "output_type": "execute_result"
    },
    {
     "data": {
      "image/png": "[encoded data removed]",
      "text/plain": [
       "<Figure size 576x396 with 1 Axes>"
      ]
     },
     "metadata": {
      "tags": []
     },
     "output_type": "display_data"
    }
   ],
   "source": [
    "sb.boxplot(x=\"LOAN_AMT\",data=train)"
   ]
  },
  {
   "cell_type": "code",
   "execution_count": null,
   "metadata": {
    "colab": {
     "base_uri": "https://localhost:8080/",
     "height": 378
    },
    "id": "tcY5UmK8GQ5K",
    "outputId": "9a03eb09-4d06-44c3-973d-f6b2832f3161"
   },
   "outputs": [
    {
     "data": {
      "text/plain": [
       "<matplotlib.axes._subplots.AxesSubplot at 0x7f7305899a10>"
      ]
     },
     "execution_count": 525,
     "metadata": {
      "tags": []
     },
     "output_type": "execute_result"
    },
    {
     "data": {
      "image/png": "[encoded data removed]",
      "text/plain": [
       "<Figure size 576x396 with 1 Axes>"
      ]
     },
     "metadata": {
      "tags": []
     },
     "output_type": "display_data"
    }
   ],
   "source": [
    "sb.boxplot(x=\"LOAN_AMT\",data=test)"
   ]
  },
  {
   "cell_type": "markdown",
   "metadata": {
    "id": "1US_W1ksDbB2"
   },
   "source": [
    "#### Hence, there are no outliers \n",
    "## 'Business Title'"
   ]
  },
  {
   "cell_type": "code",
   "execution_count": null,
   "metadata": {
    "id": "yqzjr-RmEMqV"
   },
   "outputs": [],
   "source": [
    "cat_clean(\"Business Title\")"
   ]
  },
  {
   "cell_type": "code",
   "execution_count": null,
   "metadata": {
    "colab": {
     "base_uri": "https://localhost:8080/"
    },
    "id": "xcdaMo9IY7Rh",
    "outputId": "db098018-6609-4db3-b9ad-b038fe1f7ee2"
   },
   "outputs": [
    {
     "data": {
      "text/plain": [
       "102    28\n",
       "849    25\n",
       "265    23\n",
       "292    22\n",
       "326    19\n",
       "       ..\n",
       "91      1\n",
       "85      1\n",
       "77      1\n",
       "73      1\n",
       "0       1\n",
       "Name: Business Title, Length: 1094, dtype: int64"
      ]
     },
     "execution_count": 527,
     "metadata": {
      "tags": []
     },
     "output_type": "execute_result"
    }
   ],
   "source": [
    "train[\"Business Title\"].value_counts()"
   ]
  },
  {
   "cell_type": "markdown",
   "metadata": {
    "id": "Bj0iY9lDWghW"
   },
   "source": [
    "## 'Civil Service Title'"
   ]
  },
  {
   "cell_type": "code",
   "execution_count": null,
   "metadata": {
    "id": "M2RJRtl7WuVR"
   },
   "outputs": [],
   "source": [
    "cat_clean(\"Civil Service Title\")"
   ]
  },
  {
   "cell_type": "code",
   "execution_count": null,
   "metadata": {
    "colab": {
     "base_uri": "https://localhost:8080/"
    },
    "id": "G4P7mBogY48J",
    "outputId": "18c96ba8-4032-422c-c52d-a32d602c762f"
   },
   "outputs": [
    {
     "data": {
      "text/plain": [
       "123    144\n",
       "46      92\n",
       "141     61\n",
       "113     61\n",
       "110     57\n",
       "      ... \n",
       "9        1\n",
       "11       1\n",
       "31       1\n",
       "55       1\n",
       "0        1\n",
       "Name: Civil Service Title, Length: 300, dtype: int64"
      ]
     },
     "execution_count": 529,
     "metadata": {
      "tags": []
     },
     "output_type": "execute_result"
    }
   ],
   "source": [
    "train[\"Civil Service Title\"].value_counts()"
   ]
  },
  {
   "cell_type": "markdown",
   "metadata": {
    "id": "SbXG-xpwXMui"
   },
   "source": [
    "## 'Division/Work Unit'"
   ]
  },
  {
   "cell_type": "code",
   "execution_count": null,
   "metadata": {
    "id": "MjH240KmXVrN"
   },
   "outputs": [],
   "source": [
    "cat_clean(\"Division/Work Unit\")"
   ]
  },
  {
   "cell_type": "code",
   "execution_count": null,
   "metadata": {
    "colab": {
     "base_uri": "https://localhost:8080/"
    },
    "id": "oRpFSce9Y2lo",
    "outputId": "185e2445-8258-49bf-da8c-197248349e9f"
   },
   "outputs": [
    {
     "data": {
      "text/plain": [
       "258    37\n",
       "144    31\n",
       "243    31\n",
       "362    28\n",
       "58     24\n",
       "       ..\n",
       "329     1\n",
       "470     1\n",
       "252     1\n",
       "337     1\n",
       "0       1\n",
       "Name: Division/Work Unit, Length: 631, dtype: int64"
      ]
     },
     "execution_count": 531,
     "metadata": {
      "tags": []
     },
     "output_type": "execute_result"
    }
   ],
   "source": [
    "train[\"Division/Work Unit\"].value_counts()"
   ]
  },
  {
   "cell_type": "markdown",
   "metadata": {
    "id": "1_iZhS1wXzHE"
   },
   "source": [
    "## 'Job Description'"
   ]
  },
  {
   "cell_type": "code",
   "execution_count": null,
   "metadata": {
    "id": "79U_mjV6X8Q2"
   },
   "outputs": [],
   "source": [
    "cat_clean(\"Job Description\")"
   ]
  },
  {
   "cell_type": "code",
   "execution_count": null,
   "metadata": {
    "colab": {
     "base_uri": "https://localhost:8080/"
    },
    "id": "LS9FJhsEYmju",
    "outputId": "ebe612fc-4b50-4c62-c37c-875abc87f385"
   },
   "outputs": [
    {
     "data": {
      "text/plain": [
       "1011    15\n",
       "1016     6\n",
       "552      5\n",
       "1438     4\n",
       "210      4\n",
       "        ..\n",
       "1170     1\n",
       "749      1\n",
       "1162     1\n",
       "1160     1\n",
       "1456     1\n",
       "Name: Job Description, Length: 1457, dtype: int64"
      ]
     },
     "execution_count": 533,
     "metadata": {
      "tags": []
     },
     "output_type": "execute_result"
    }
   ],
   "source": [
    "train[\"Job Description\"].value_counts()"
   ]
  },
  {
   "cell_type": "markdown",
   "metadata": {
    "id": "6PBcZEs2Y-EB"
   },
   "source": [
    "## 'Minimum Qual Requirements'"
   ]
  },
  {
   "cell_type": "code",
   "execution_count": null,
   "metadata": {
    "id": "hW_YQno7ZIMC"
   },
   "outputs": [],
   "source": [
    "cat_clean(\"Minimum Qual Requirements\")"
   ]
  },
  {
   "cell_type": "code",
   "execution_count": null,
   "metadata": {
    "colab": {
     "base_uri": "https://localhost:8080/"
    },
    "id": "C35HbQAVZSCn",
    "outputId": "699a11e8-9320-4995-f7b2-4a48d2beb3fa"
   },
   "outputs": [
    {
     "data": {
      "text/plain": [
       "53     165\n",
       "180     92\n",
       "109     61\n",
       "218     61\n",
       "216     57\n",
       "      ... \n",
       "274      1\n",
       "121      1\n",
       "80       1\n",
       "292      1\n",
       "61       1\n",
       "Name: Minimum Qual Requirements, Length: 298, dtype: int64"
      ]
     },
     "execution_count": 535,
     "metadata": {
      "tags": []
     },
     "output_type": "execute_result"
    }
   ],
   "source": [
    "train[\"Minimum Qual Requirements\"].value_counts()"
   ]
  },
  {
   "cell_type": "markdown",
   "metadata": {
    "id": "SYkRJ6-5qsPU"
   },
   "source": [
    "## 'Preferred Skills'"
   ]
  },
  {
   "cell_type": "code",
   "execution_count": null,
   "metadata": {
    "id": "dcPm18J0rVG-"
   },
   "outputs": [],
   "source": [
    "cat_clean(\"Preferred Skills\")"
   ]
  },
  {
   "cell_type": "code",
   "execution_count": null,
   "metadata": {
    "colab": {
     "base_uri": "https://localhost:8080/"
    },
    "id": "3-io6wdYruts",
    "outputId": "d0fb586a-dfa0-413f-b603-53d2046c6719"
   },
   "outputs": [
    {
     "data": {
      "text/plain": [
       "366     355\n",
       "575      17\n",
       "114      12\n",
       "610      10\n",
       "68        7\n",
       "       ... \n",
       "603       1\n",
       "858       1\n",
       "601       1\n",
       "868       1\n",
       "1149      1\n",
       "Name: Preferred Skills, Length: 1150, dtype: int64"
      ]
     },
     "execution_count": 537,
     "metadata": {
      "tags": []
     },
     "output_type": "execute_result"
    }
   ],
   "source": [
    "train[\"Preferred Skills\"].value_counts()"
   ]
  },
  {
   "cell_type": "markdown",
   "metadata": {
    "id": "EHThDKLatfQU"
   },
   "source": [
    "## 'Addition Information'"
   ]
  },
  {
   "cell_type": "code",
   "execution_count": null,
   "metadata": {
    "id": "QAccGEMAr5Mg"
   },
   "outputs": [],
   "source": [
    "cat_clean(\"Additional Information\")"
   ]
  },
  {
   "cell_type": "code",
   "execution_count": null,
   "metadata": {
    "colab": {
     "base_uri": "https://localhost:8080/"
    },
    "id": "resEJopjtoOE",
    "outputId": "67f2dee4-7e0d-4a27-c72a-246a6a283986"
   },
   "outputs": [
    {
     "data": {
      "text/plain": [
       "78     998\n",
       "230     53\n",
       "305     47\n",
       "231     41\n",
       "423     36\n",
       "      ... \n",
       "486      1\n",
       "484      1\n",
       "476      1\n",
       "472      1\n",
       "503      1\n",
       "Name: Additional Information, Length: 504, dtype: int64"
      ]
     },
     "execution_count": 539,
     "metadata": {
      "tags": []
     },
     "output_type": "execute_result"
    }
   ],
   "source": [
    "train[\"Additional Information\"].value_counts()"
   ]
  },
  {
   "cell_type": "markdown",
   "metadata": {
    "id": "OMFVd88xtuxg"
   },
   "source": [
    "## 'To Apply'"
   ]
  },
  {
   "cell_type": "code",
   "execution_count": null,
   "metadata": {
    "colab": {
     "base_uri": "https://localhost:8080/"
    },
    "id": "fhFBBSO5f-C6",
    "outputId": "d0458f38-1abe-46b1-8ebb-eb4df5356de4"
   },
   "outputs": [
    {
     "data": {
      "text/plain": [
       "Click the \"Apply Now\" button.                                                                                                                                                                                                                                                                                                                                                                                                                                                                                                                                                                                                                                                                                                                                                                                                                   232\n",
       "Click, \"APPLY NOW\" Current city employees must apply via Employee Self-Service (ESS)                                                                                                                                                                                                                                                                                                                                                                                                                                                                                                                                                                                                                                                                                                                                                             98\n",
       "Click the \"Apply Now\" button                                                                                                                                                                                                                                                                                                                                                                                                                                                                                                                                                                                                                                                                                                                                                                                                                     89\n",
       "To apply click \"Apply Now\"                                                                                                                                                                                                                                                                                                                                                                                                                                                                                                                                                                                                                                                                                                                                                                                                                       69\n",
       "Click \"Apply Now\" button                                                                                                                                                                                                                                                                                                                                                                                                                                                                                                                                                                                                                                                                                                                                                                                                                         38\n",
       "                                                                                                                                                                                                                                                                                                                                                                                                                                                                                                                                                                                                                                                                                                                                                                                                                                               ... \n",
       "Please submit your resume and cover letter. Please disregard the Minimum Qualifications Requirements. Please indicate your Tax ID# on the cover letter. Please do not apply more than once to the Job Posting. Positions in administrative commands may require an interview.                                                                                                                                                                                                                                                                                                                                                                                                                                                                                                                                                                     1\n",
       "We appreciate the interest and thank all applicants who apply, but only those candidates under consideration will be contacted  Apply online with a cover letter to https://a127-jobs.nyc.gov/  In the Job ID search bar, enter: <job ID number #  386903.  The NYC Health Department is committed to recruiting and retaining a diverse and culturally responsive workforce. We strongly encourage people of color, people with disabilities, veterans, women, and lesbian, gay, bisexual, and transgender and gender non-conforming persons to apply.  All applicants will be considered without regard to actual or perceived race, color, national origin, religion, sexual orientation, marital or parental status, disability, sex, gender identity or expression, age, prior record of arrest; or any other basis prohibited by law.       1\n",
       "Please submit your resume and cover letter.  Please disregard the Minimum Qualifications Requirements.  Please include the position your choice, if applying for only one position and your Tax ID# on the cover letter.  Please do not apply more than once to this Job Posting. Positions in administrative commands may require an interview.                                                                                                                                                                                                                                                                                                                                                                                                                                                                                                  1\n",
       "All resumes are to be submitted electronically.  Current DOT Employees serving permanently in the title of Clerical Associate or eligible under the 55a Program:   Please log into Employee Self Service (ESS) at https://hrb.nycaps.nycnet, follow the Careers link and search for Job ID number 422069.  If you do not have access to a personal computer: Please visit your local public library.  Most public libraries have computers available for use.  No phone calls, faxes or personal inquiries permitted. Only those applicants under consideration will be contacted. For more information about DOT, visit us at: www.nyc.gov/dot.  *** IN ORDER TO BE CONSIDERED FOR THIS POSITION CANDIDATES MUST BE CURRENT DOT EMPLOYEES SERVING PERMANENTLY IN THE TITLE OF CLERICAL ASSOCIATE OR BE QUALIFIED UNDER THE 55-a PROGRAM ***      1\n",
       "CANDIDATE MUST BE PERMANENT IN THE ADMINISTRATIVE STAFF ANALYTS NM CIVIL SERVICE TITLE .                                                                                                                                                                                                                                                                                                                                                                                                                                                                                                                                                                                                                                                                                                                                                          1\n",
       "Name: To Apply, Length: 816, dtype: int64"
      ]
     },
     "execution_count": 540,
     "metadata": {
      "tags": []
     },
     "output_type": "execute_result"
    }
   ],
   "source": [
    "train[\"To Apply\"].value_counts()"
   ]
  },
  {
   "cell_type": "code",
   "execution_count": null,
   "metadata": {
    "id": "HaObIM-vttIn"
   },
   "outputs": [],
   "source": [
    "cat_clean(\"To Apply\")"
   ]
  },
  {
   "cell_type": "code",
   "execution_count": null,
   "metadata": {
    "colab": {
     "base_uri": "https://localhost:8080/"
    },
    "id": "5j1KycrHt52J",
    "outputId": "32453bbe-dad7-4b83-a9e3-b7409dc0ac14"
   },
   "outputs": [
    {
     "data": {
      "text/plain": [
       "174    546\n",
       "179    112\n",
       "223     94\n",
       "44      73\n",
       "113     66\n",
       "      ... \n",
       "200      1\n",
       "21       1\n",
       "196      1\n",
       "193      1\n",
       "23       1\n",
       "Name: To Apply, Length: 374, dtype: int64"
      ]
     },
     "execution_count": 542,
     "metadata": {
      "tags": []
     },
     "output_type": "execute_result"
    }
   ],
   "source": [
    "train[\"To Apply\"].value_counts()"
   ]
  },
  {
   "cell_type": "markdown",
   "metadata": {
    "id": "Ev9gYXStuEEi"
   },
   "source": [
    "## 'Hours/Shift'"
   ]
  },
  {
   "cell_type": "code",
   "execution_count": null,
   "metadata": {
    "colab": {
     "base_uri": "https://localhost:8080/"
    },
    "id": "siuEWxSxgGiv",
    "outputId": "f4b2ffbd-4ff6-4481-8571-1f1b621e7147"
   },
   "outputs": [
    {
     "data": {
      "text/plain": [
       "35 Hours                                                                                                                                                                                                                                                   105\n",
       "35 hours per week                                                                                                                                                                                                                                           35\n",
       "Day - Due to the necessary technical support duties of this position in a 24/7 operation, candidate may be required to work various shifts such as weekends and/or nights/evenings.                                                                         29\n",
       "35 hours per week / day                                                                                                                                                                                                                                     27\n",
       "35hrs                                                                                                                                                                                                                                                       22\n",
       "                                                                                                                                                                                                                                                          ... \n",
       "Monday through Friday, 35 hours per week                                                                                                                                                                                                                     1\n",
       "Due to the necessary duties of this position in a 24/7 operation, candidate may be required to work various shifts such as weekends and/or nights/evenings. It is anticipated that this position will start as an evening Call Center Manager position.      1\n",
       "Day - Due to the necessary management duties of this position in a 24/7 operation, candidate may be required to be on call and/or work various shifts such as weekends and/or nights/evenings.                                                               1\n",
       "35 hours minimum/Monday-Friday                                                                                                                                                                                                                               1\n",
       "35 hours/week                                                                                                                                                                                                                                                1\n",
       "Name: Hours/Shift, Length: 173, dtype: int64"
      ]
     },
     "execution_count": 543,
     "metadata": {
      "tags": []
     },
     "output_type": "execute_result"
    }
   ],
   "source": [
    "train[\"Hours/Shift\"].value_counts()"
   ]
  },
  {
   "cell_type": "code",
   "execution_count": null,
   "metadata": {
    "id": "LE_SaN3st8sk"
   },
   "outputs": [],
   "source": [
    "cat_clean(\"Hours/Shift\")"
   ]
  },
  {
   "cell_type": "code",
   "execution_count": null,
   "metadata": {
    "colab": {
     "base_uri": "https://localhost:8080/"
    },
    "id": "W1s7qATDuML3",
    "outputId": "fa44c2eb-51c7-4fe8-b91b-fb4fa3e7a0f4"
   },
   "outputs": [
    {
     "data": {
      "text/plain": [
       "27     1767\n",
       "36       84\n",
       "38       39\n",
       "20       29\n",
       "83       28\n",
       "       ... \n",
       "90        1\n",
       "76        1\n",
       "74        1\n",
       "70        1\n",
       "106       1\n",
       "Name: Hours/Shift, Length: 108, dtype: int64"
      ]
     },
     "execution_count": 545,
     "metadata": {
      "tags": []
     },
     "output_type": "execute_result"
    }
   ],
   "source": [
    "train[\"Hours/Shift\"].value_counts()"
   ]
  },
  {
   "cell_type": "markdown",
   "metadata": {
    "id": "SOaFbnW0uSD7"
   },
   "source": [
    "## 'Residency Requirement'"
   ]
  },
  {
   "cell_type": "code",
   "execution_count": null,
   "metadata": {
    "id": "64gD4u_BuOlc"
   },
   "outputs": [],
   "source": [
    "cat_clean(\"Residency Requirement\")"
   ]
  },
  {
   "cell_type": "code",
   "execution_count": null,
   "metadata": {
    "colab": {
     "base_uri": "https://localhost:8080/"
    },
    "id": "ZgtWMBcIuWae",
    "outputId": "56e6cd39-acdc-4932-e3d5-e83622cb5b23"
   },
   "outputs": [
    {
     "data": {
      "text/plain": [
       "7     1372\n",
       "12     696\n",
       "21     185\n",
       "23      22\n",
       "14      15\n",
       "28      13\n",
       "2        8\n",
       "15       8\n",
       "13       4\n",
       "20       3\n",
       "6        2\n",
       "10       2\n",
       "18       2\n",
       "0        2\n",
       "1        2\n",
       "3        2\n",
       "5        2\n",
       "9        2\n",
       "11       2\n",
       "17       2\n",
       "19       2\n",
       "25       1\n",
       "26       1\n",
       "24       1\n",
       "22       1\n",
       "16       1\n",
       "8        1\n",
       "4        1\n",
       "27       1\n",
       "Name: Residency Requirement, dtype: int64"
      ]
     },
     "execution_count": 547,
     "metadata": {
      "tags": []
     },
     "output_type": "execute_result"
    }
   ],
   "source": [
    "train[\"Residency Requirement\"].value_counts()"
   ]
  },
  {
   "cell_type": "code",
   "execution_count": null,
   "metadata": {
    "id": "It5PKt1duZit"
   },
   "outputs": [],
   "source": [
    "train.drop(\"Posting Date\",1,inplace=True)\n",
    "test.drop(\"Posting Date\",1,inplace=True)\n",
    "\n",
    "train.drop(\"Posting Updated\",1,inplace=True)\n",
    "test.drop(\"Posting Updated\",1,inplace=True)\n",
    "\n",
    "train.drop(\"Process Date\",1,inplace=True)\n",
    "test.drop(\"Process Date\",1,inplace=True)"
   ]
  },
  {
   "cell_type": "markdown",
   "metadata": {
    "id": "mZ5y6HLMvIQK"
   },
   "source": [
    "## 'Formal Education'"
   ]
  },
  {
   "cell_type": "code",
   "execution_count": null,
   "metadata": {
    "id": "SpERHrsyu2-8"
   },
   "outputs": [],
   "source": [
    "cat_clean(\"FormalEducation\")"
   ]
  },
  {
   "cell_type": "code",
   "execution_count": null,
   "metadata": {
    "colab": {
     "base_uri": "https://localhost:8080/"
    },
    "id": "BMAbcIG4vREq",
    "outputId": "78501707-3350-4245-a6d6-9fffa40ad7eb"
   },
   "outputs": [
    {
     "data": {
      "text/plain": [
       "2    1190\n",
       "3     589\n",
       "8     254\n",
       "7     143\n",
       "1      68\n",
       "4      60\n",
       "6      33\n",
       "5      12\n",
       "0       7\n",
       "Name: FormalEducation, dtype: int64"
      ]
     },
     "execution_count": 550,
     "metadata": {
      "tags": []
     },
     "output_type": "execute_result"
    }
   ],
   "source": [
    "train[\"FormalEducation\"].value_counts()"
   ]
  },
  {
   "cell_type": "markdown",
   "metadata": {
    "id": "PZhhVBeNvcV9"
   },
   "source": [
    "## 'UndergradMajor'"
   ]
  },
  {
   "cell_type": "code",
   "execution_count": null,
   "metadata": {
    "id": "Cn44PmRGvYgp"
   },
   "outputs": [],
   "source": [
    "cat_clean(\"UndergradMajor\")"
   ]
  },
  {
   "cell_type": "code",
   "execution_count": null,
   "metadata": {
    "colab": {
     "base_uri": "https://localhost:8080/"
    },
    "id": "WQ0jaccZvhjh",
    "outputId": "ff03bc85-7133-49e6-a8e2-0cc9a7a2f83e"
   },
   "outputs": [
    {
     "data": {
      "text/plain": [
       "7     1623\n",
       "9      193\n",
       "6      164\n",
       "3       91\n",
       "10      64\n",
       "0       56\n",
       "11      49\n",
       "2       37\n",
       "4       33\n",
       "8       27\n",
       "5       17\n",
       "1        2\n",
       "Name: UndergradMajor, dtype: int64"
      ]
     },
     "execution_count": 552,
     "metadata": {
      "tags": []
     },
     "output_type": "execute_result"
    }
   ],
   "source": [
    "train[\"UndergradMajor\"].value_counts()"
   ]
  },
  {
   "cell_type": "markdown",
   "metadata": {
    "id": "PIjZPqJmvrE9"
   },
   "source": [
    "## 'CompanySize'"
   ]
  },
  {
   "cell_type": "code",
   "execution_count": null,
   "metadata": {
    "id": "C9q2xheTvnfa"
   },
   "outputs": [],
   "source": [
    "train[\"CompanySize\"].fillna(train[\"CompanySize\"].mode()[0],inplace=True)\n",
    "test[\"CompanySize\"].fillna(test[\"CompanySize\"].mode()[0],inplace=True)\n",
    "\n",
    "train[\"CompanySize\"]=le.fit_transform(train[\"CompanySize\"])\n",
    "test[\"CompanySize\"]=le.fit_transform(test[\"CompanySize\"])"
   ]
  },
  {
   "cell_type": "code",
   "execution_count": null,
   "metadata": {
    "colab": {
     "base_uri": "https://localhost:8080/"
    },
    "id": "VriwgEQDv0Ow",
    "outputId": "decbb5f2-49af-436f-c23f-c5c805d6a06c"
   },
   "outputs": [
    {
     "data": {
      "text/plain": [
       "4    580\n",
       "3    466\n",
       "2    307\n",
       "1    261\n",
       "0    251\n",
       "7    237\n",
       "6    171\n",
       "5     83\n",
       "Name: CompanySize, dtype: int64"
      ]
     },
     "execution_count": 554,
     "metadata": {
      "tags": []
     },
     "output_type": "execute_result"
    }
   ],
   "source": [
    "train[\"CompanySize\"].value_counts()"
   ]
  },
  {
   "cell_type": "markdown",
   "metadata": {
    "id": "CjT4M5AGwMDn"
   },
   "source": [
    "## 'DevType'"
   ]
  },
  {
   "cell_type": "code",
   "execution_count": null,
   "metadata": {
    "id": "gp7altdov4Wq"
   },
   "outputs": [],
   "source": [
    "cat_clean(\"DevType\")"
   ]
  },
  {
   "cell_type": "code",
   "execution_count": null,
   "metadata": {
    "colab": {
     "base_uri": "https://localhost:8080/"
    },
    "id": "yFjjG_zswQgA",
    "outputId": "0c833f57-f66a-4162-c470-7d487c313332"
   },
   "outputs": [
    {
     "data": {
      "text/plain": [
       "671    219\n",
       "16     164\n",
       "436    149\n",
       "686    119\n",
       "458    103\n",
       "      ... \n",
       "1        1\n",
       "3        1\n",
       "5        1\n",
       "7        1\n",
       "619      1\n",
       "Name: DevType, Length: 694, dtype: int64"
      ]
     },
     "execution_count": 556,
     "metadata": {
      "tags": []
     },
     "output_type": "execute_result"
    }
   ],
   "source": [
    "train[\"DevType\"].value_counts()"
   ]
  },
  {
   "cell_type": "markdown",
   "metadata": {
    "id": "rshZkeEhwbfM"
   },
   "source": [
    "## 'YearsCoding'"
   ]
  },
  {
   "cell_type": "code",
   "execution_count": null,
   "metadata": {
    "colab": {
     "base_uri": "https://localhost:8080/"
    },
    "id": "6Vvd5oBQwTrI",
    "outputId": "09388f0b-6051-4a2c-8936-42e00d28aa47"
   },
   "outputs": [
    {
     "data": {
      "text/plain": [
       "(3, 0)"
      ]
     },
     "execution_count": 557,
     "metadata": {
      "tags": []
     },
     "output_type": "execute_result"
    }
   ],
   "source": [
    "train[\"YearsCoding\"].isnull().sum(),test[\"YearsCoding\"].isnull().sum()"
   ]
  },
  {
   "cell_type": "code",
   "execution_count": null,
   "metadata": {
    "id": "3iEQzFJLwmYE"
   },
   "outputs": [],
   "source": [
    "train[\"YearsCoding\"].fillna(train[\"YearsCoding\"].mode()[0],inplace=True)"
   ]
  },
  {
   "cell_type": "code",
   "execution_count": null,
   "metadata": {
    "id": "Hurs6JliwzWl"
   },
   "outputs": [],
   "source": [
    "train[\"YearsCoding\"]=le.fit_transform(train[\"YearsCoding\"])\n",
    "test[\"YearsCoding\"]=le.fit_transform(test[\"YearsCoding\"])"
   ]
  },
  {
   "cell_type": "code",
   "execution_count": null,
   "metadata": {
    "colab": {
     "base_uri": "https://localhost:8080/"
    },
    "id": "x0tlg46AxDjs",
    "outputId": "8938079b-6fb5-43b4-e5cf-79ba68ff96aa"
   },
   "outputs": [
    {
     "data": {
      "text/plain": [
       "7     563\n",
       "9     496\n",
       "10    357\n",
       "1     234\n",
       "0     188\n",
       "2     168\n",
       "3     145\n",
       "8      68\n",
       "4      64\n",
       "5      45\n",
       "6      28\n",
       "Name: YearsCoding, dtype: int64"
      ]
     },
     "execution_count": 560,
     "metadata": {
      "tags": []
     },
     "output_type": "execute_result"
    }
   ],
   "source": [
    "train[\"YearsCoding\"].value_counts()"
   ]
  },
  {
   "cell_type": "markdown",
   "metadata": {
    "id": "44dHNGnAxP-N"
   },
   "source": [
    "## 'YearsCodingProf'"
   ]
  },
  {
   "cell_type": "code",
   "execution_count": null,
   "metadata": {
    "colab": {
     "base_uri": "https://localhost:8080/"
    },
    "id": "o8_OFsPyxMOV",
    "outputId": "6bb3f731-8ad3-475c-e783-d183c89bf88e"
   },
   "outputs": [
    {
     "data": {
      "text/plain": [
       "(334, 74)"
      ]
     },
     "execution_count": 561,
     "metadata": {
      "tags": []
     },
     "output_type": "execute_result"
    }
   ],
   "source": [
    "train[\"YearsCodingProf\"].isnull().sum(),test[\"YearsCodingProf\"].isnull().sum()"
   ]
  },
  {
   "cell_type": "code",
   "execution_count": null,
   "metadata": {
    "id": "1_QkziSkxb-R"
   },
   "outputs": [],
   "source": [
    "train[\"YearsCodingProf\"].fillna(train[\"YearsCodingProf\"].mode()[0],inplace=True)\n",
    "test[\"YearsCodingProf\"].fillna(test[\"YearsCodingProf\"].mode()[0],inplace=True)"
   ]
  },
  {
   "cell_type": "code",
   "execution_count": null,
   "metadata": {
    "id": "QasKzIqexiKv"
   },
   "outputs": [],
   "source": [
    "train[\"YearsCodingProf\"]=le.fit_transform(train[\"YearsCodingProf\"])\n",
    "test[\"YearsCodingProf\"]=le.fit_transform(test[\"YearsCodingProf\"])"
   ]
  },
  {
   "cell_type": "code",
   "execution_count": null,
   "metadata": {
    "colab": {
     "base_uri": "https://localhost:8080/"
    },
    "id": "EBSWXfUnxm7g",
    "outputId": "1e515acf-3073-4a0e-e74a-30ff7e3406b5"
   },
   "outputs": [
    {
     "data": {
      "text/plain": [
       "7     962\n",
       "0     509\n",
       "9     324\n",
       "10    210\n",
       "1     114\n",
       "2      80\n",
       "3      69\n",
       "4      33\n",
       "8      27\n",
       "5      18\n",
       "6      10\n",
       "Name: YearsCodingProf, dtype: int64"
      ]
     },
     "execution_count": 564,
     "metadata": {
      "tags": []
     },
     "output_type": "execute_result"
    }
   ],
   "source": [
    "train[\"YearsCodingProf\"].value_counts()"
   ]
  },
  {
   "cell_type": "markdown",
   "metadata": {
    "id": "7mp7PQXpxs4B"
   },
   "source": [
    "## 'HopeFiveYears'"
   ]
  },
  {
   "cell_type": "code",
   "execution_count": null,
   "metadata": {
    "id": "IKn5RKWFxqEH"
   },
   "outputs": [],
   "source": [
    "cat_clean(\"HopeFiveYears\")"
   ]
  },
  {
   "cell_type": "code",
   "execution_count": null,
   "metadata": {
    "colab": {
     "base_uri": "https://localhost:8080/"
    },
    "id": "KlkpyCYIx0fX",
    "outputId": "3e458e53-04a9-4bea-a9f8-c908f5514f45"
   },
   "outputs": [
    {
     "data": {
      "text/plain": [
       "3    1075\n",
       "5     487\n",
       "0     388\n",
       "4     194\n",
       "6     138\n",
       "2      47\n",
       "1      27\n",
       "Name: HopeFiveYears, dtype: int64"
      ]
     },
     "execution_count": 566,
     "metadata": {
      "tags": []
     },
     "output_type": "execute_result"
    }
   ],
   "source": [
    "train[\"HopeFiveYears\"].value_counts()"
   ]
  },
  {
   "cell_type": "markdown",
   "metadata": {
    "id": "-ttxmUqayFub"
   },
   "source": [
    "## 'JobSearchStatus'"
   ]
  },
  {
   "cell_type": "code",
   "execution_count": null,
   "metadata": {
    "id": "yNw941yTx5M0"
   },
   "outputs": [],
   "source": [
    "cat_clean(\"JobSearchStatus\")"
   ]
  },
  {
   "cell_type": "code",
   "execution_count": null,
   "metadata": {
    "colab": {
     "base_uri": "https://localhost:8080/"
    },
    "id": "I3bcpVLcyKny",
    "outputId": "5d78d4e8-b4cd-4fb7-aab6-5ff6142e2ace"
   },
   "outputs": [
    {
     "data": {
      "text/plain": [
       "0    1562\n",
       "2     531\n",
       "1     263\n",
       "Name: JobSearchStatus, dtype: int64"
      ]
     },
     "execution_count": 568,
     "metadata": {
      "tags": []
     },
     "output_type": "execute_result"
    }
   ],
   "source": [
    "train[\"JobSearchStatus\"].value_counts()"
   ]
  },
  {
   "cell_type": "markdown",
   "metadata": {
    "id": "0fymj4CmyY9N"
   },
   "source": [
    "## 'LastNewJob'"
   ]
  },
  {
   "cell_type": "code",
   "execution_count": null,
   "metadata": {
    "id": "U-OkxD3JyT_r"
   },
   "outputs": [],
   "source": [
    "cat_clean(\"LastNewJob\")"
   ]
  },
  {
   "cell_type": "code",
   "execution_count": null,
   "metadata": {
    "colab": {
     "base_uri": "https://localhost:8080/"
    },
    "id": "KCnxhuGFycMc",
    "outputId": "8483de86-65d1-408f-89b8-a567ee7047da"
   },
   "outputs": [
    {
     "data": {
      "text/plain": [
       "2    1069\n",
       "1     895\n",
       "3     390\n",
       "0       2\n",
       "Name: LastNewJob, dtype: int64"
      ]
     },
     "execution_count": 570,
     "metadata": {
      "tags": []
     },
     "output_type": "execute_result"
    }
   ],
   "source": [
    "train[\"LastNewJob\"].value_counts()"
   ]
  },
  {
   "cell_type": "markdown",
   "metadata": {
    "id": "ibfnppYAyitq"
   },
   "source": [
    "## 'UpdateCV'"
   ]
  },
  {
   "cell_type": "code",
   "execution_count": null,
   "metadata": {
    "id": "yOJm-GobyeZ3"
   },
   "outputs": [],
   "source": [
    "cat_clean(\"UpdateCV\")"
   ]
  },
  {
   "cell_type": "code",
   "execution_count": null,
   "metadata": {
    "colab": {
     "base_uri": "https://localhost:8080/"
    },
    "id": "IktY1REtynfJ",
    "outputId": "2e303637-13bc-4f5b-d502-139cc634e6b9"
   },
   "outputs": [
    {
     "data": {
      "text/plain": [
       "2101    6\n",
       "298     7\n",
       "947     0\n",
       "752     7\n",
       "253     7\n",
       "       ..\n",
       "1814    7\n",
       "1428    7\n",
       "2441    7\n",
       "271     1\n",
       "2522    2\n",
       "Name: UpdateCV, Length: 2356, dtype: int64"
      ]
     },
     "execution_count": 572,
     "metadata": {
      "tags": []
     },
     "output_type": "execute_result"
    }
   ],
   "source": [
    "train[\"UpdateCV\"]"
   ]
  },
  {
   "cell_type": "markdown",
   "metadata": {
    "id": "Riko_C2FytW2"
   },
   "source": [
    "## 'CommunicationTools'"
   ]
  },
  {
   "cell_type": "code",
   "execution_count": null,
   "metadata": {
    "id": "_U3W7gcUypH2"
   },
   "outputs": [],
   "source": [
    "cat_clean(\"CommunicationTools\")"
   ]
  },
  {
   "cell_type": "code",
   "execution_count": null,
   "metadata": {
    "colab": {
     "base_uri": "https://localhost:8080/"
    },
    "id": "PRznCkLRyxUk",
    "outputId": "177c5871-1afa-48a0-b243-0d8832ab223a"
   },
   "outputs": [
    {
     "data": {
      "text/plain": [
       "272    849\n",
       "293     88\n",
       "90      66\n",
       "290     40\n",
       "276     38\n",
       "      ... \n",
       "282      1\n",
       "280      1\n",
       "199      1\n",
       "270      1\n",
       "228      1\n",
       "Name: CommunicationTools, Length: 310, dtype: int64"
      ]
     },
     "execution_count": 574,
     "metadata": {
      "tags": []
     },
     "output_type": "execute_result"
    }
   ],
   "source": [
    "train[\"CommunicationTools\"].value_counts()"
   ]
  },
  {
   "cell_type": "markdown",
   "metadata": {
    "id": "QR9f05Iqy5Sd"
   },
   "source": [
    "## 'TimeFullyProductive'"
   ]
  },
  {
   "cell_type": "code",
   "execution_count": null,
   "metadata": {
    "id": "Ro2kUHOsy0lI"
   },
   "outputs": [],
   "source": [
    "cat_clean(\"TimeFullyProductive\")"
   ]
  },
  {
   "cell_type": "code",
   "execution_count": null,
   "metadata": {
    "colab": {
     "base_uri": "https://localhost:8080/"
    },
    "id": "UjzbbfLzy-eH",
    "outputId": "10ca8c58-9791-4cbd-bda0-e92dbab81319"
   },
   "outputs": [
    {
     "data": {
      "text/plain": [
       "3    1443\n",
       "0     528\n",
       "5     265\n",
       "4      84\n",
       "2      21\n",
       "1      15\n",
       "Name: TimeFullyProductive, dtype: int64"
      ]
     },
     "execution_count": 576,
     "metadata": {
      "tags": []
     },
     "output_type": "execute_result"
    }
   ],
   "source": [
    "train[\"TimeFullyProductive\"].value_counts()"
   ]
  },
  {
   "cell_type": "markdown",
   "metadata": {
    "id": "WEu3BDmCzFgL"
   },
   "source": [
    "## 'EducationTypes'"
   ]
  },
  {
   "cell_type": "code",
   "execution_count": null,
   "metadata": {
    "id": "M7EQERc9zBVI"
   },
   "outputs": [],
   "source": [
    "cat_clean(\"EducationTypes\")"
   ]
  },
  {
   "cell_type": "code",
   "execution_count": null,
   "metadata": {
    "colab": {
     "base_uri": "https://localhost:8080/"
    },
    "id": "MHnUcutnzLMO",
    "outputId": "7512618f-2875-48be-9e60-40fa64cb8050"
   },
   "outputs": [
    {
     "data": {
      "text/plain": [
       "238    793\n",
       "198    107\n",
       "239     97\n",
       "67      60\n",
       "154     56\n",
       "      ... \n",
       "39       1\n",
       "31       1\n",
       "144      1\n",
       "25       1\n",
       "167      1\n",
       "Name: EducationTypes, Length: 246, dtype: int64"
      ]
     },
     "execution_count": 578,
     "metadata": {
      "tags": []
     },
     "output_type": "execute_result"
    }
   ],
   "source": [
    "train[\"EducationTypes\"].value_counts()"
   ]
  },
  {
   "cell_type": "markdown",
   "metadata": {
    "id": "5JX4Y6rKzVV_"
   },
   "source": [
    "## 'SelfTaughtTypes'"
   ]
  },
  {
   "cell_type": "code",
   "execution_count": null,
   "metadata": {
    "id": "FuRJKvQBzRME"
   },
   "outputs": [],
   "source": [
    "cat_clean(\"SelfTaughtTypes\")"
   ]
  },
  {
   "cell_type": "code",
   "execution_count": null,
   "metadata": {
    "colab": {
     "base_uri": "https://localhost:8080/"
    },
    "id": "2xSo38CdzcnL",
    "outputId": "0a58038d-589f-4d62-a3a5-8b8e68799910"
   },
   "outputs": [
    {
     "data": {
      "text/plain": [
       "117    1001\n",
       "175      90\n",
       "180      85\n",
       "193      74\n",
       "199      65\n",
       "       ... \n",
       "190       1\n",
       "196       1\n",
       "201       1\n",
       "3         1\n",
       "160       1\n",
       "Name: SelfTaughtTypes, Length: 204, dtype: int64"
      ]
     },
     "execution_count": 580,
     "metadata": {
      "tags": []
     },
     "output_type": "execute_result"
    }
   ],
   "source": [
    "train[\"SelfTaughtTypes\"].value_counts()"
   ]
  },
  {
   "cell_type": "markdown",
   "metadata": {
    "id": "G0uS9oA1zpED"
   },
   "source": [
    "## 'TimeAfterBootcamp'"
   ]
  },
  {
   "cell_type": "code",
   "execution_count": null,
   "metadata": {
    "id": "T20q05dSzgsq"
   },
   "outputs": [],
   "source": [
    "cat_clean(\"TimeAfterBootcamp\")"
   ]
  },
  {
   "cell_type": "code",
   "execution_count": null,
   "metadata": {
    "colab": {
     "base_uri": "https://localhost:8080/"
    },
    "id": "ELHuU2xlzvcS",
    "outputId": "e711f8ed-99d0-4402-bf13-75578ffb6828"
   },
   "outputs": [
    {
     "data": {
      "text/plain": [
       "0    2271\n",
       "3      29\n",
       "6      20\n",
       "4      14\n",
       "2       9\n",
       "7       6\n",
       "5       4\n",
       "1       3\n",
       "Name: TimeAfterBootcamp, dtype: int64"
      ]
     },
     "execution_count": 582,
     "metadata": {
      "tags": []
     },
     "output_type": "execute_result"
    }
   ],
   "source": [
    "train[\"TimeAfterBootcamp\"].value_counts()"
   ]
  },
  {
   "cell_type": "markdown",
   "metadata": {
    "id": "YmLitNzFz0vy"
   },
   "source": [
    "## 'HackathonReasons' "
   ]
  },
  {
   "cell_type": "code",
   "execution_count": null,
   "metadata": {
    "id": "UgqyY1tCzziP"
   },
   "outputs": [],
   "source": [
    "cat_clean(\"HackathonReasons\")"
   ]
  },
  {
   "cell_type": "code",
   "execution_count": null,
   "metadata": {
    "colab": {
     "base_uri": "https://localhost:8080/"
    },
    "id": "DICN4Rjkz7UM",
    "outputId": "16ca15a6-1f2a-473b-e198-b813d406ec40"
   },
   "outputs": [
    {
     "data": {
      "text/plain": [
       "70    1767\n",
       "94      83\n",
       "73      50\n",
       "67      24\n",
       "20      23\n",
       "      ... \n",
       "62       1\n",
       "79       1\n",
       "86       1\n",
       "84       1\n",
       "40       1\n",
       "Name: HackathonReasons, Length: 95, dtype: int64"
      ]
     },
     "execution_count": 584,
     "metadata": {
      "tags": []
     },
     "output_type": "execute_result"
    }
   ],
   "source": [
    "train[\"HackathonReasons\"].value_counts()"
   ]
  },
  {
   "cell_type": "markdown",
   "metadata": {
    "id": "fSUy0tau0VCB"
   },
   "source": [
    "## 'AgreeDisagree1'"
   ]
  },
  {
   "cell_type": "code",
   "execution_count": null,
   "metadata": {
    "id": "-bFqiorg0YCH"
   },
   "outputs": [],
   "source": [
    "cat_clean(\"AgreeDisagree1\")"
   ]
  },
  {
   "cell_type": "code",
   "execution_count": null,
   "metadata": {
    "colab": {
     "base_uri": "https://localhost:8080/"
    },
    "id": "qJD_g5kw0bbE",
    "outputId": "52bfa0a0-67cf-4b39-d3d7-9c5d88eed055"
   },
   "outputs": [
    {
     "data": {
      "text/plain": [
       "0    1585\n",
       "2     330\n",
       "3     307\n",
       "1     104\n",
       "4      30\n",
       "Name: AgreeDisagree1, dtype: int64"
      ]
     },
     "execution_count": 586,
     "metadata": {
      "tags": []
     },
     "output_type": "execute_result"
    }
   ],
   "source": [
    "train[\"AgreeDisagree1\"].value_counts()"
   ]
  },
  {
   "cell_type": "markdown",
   "metadata": {
    "id": "2vA4SvBE0h_J"
   },
   "source": [
    "## 'AgreeDisagree2'"
   ]
  },
  {
   "cell_type": "code",
   "execution_count": null,
   "metadata": {
    "id": "ls7SRmd30ka9"
   },
   "outputs": [],
   "source": [
    "cat_clean(\"AgreeDisagree2\")"
   ]
  },
  {
   "cell_type": "code",
   "execution_count": null,
   "metadata": {
    "colab": {
     "base_uri": "https://localhost:8080/"
    },
    "id": "nYQIqAP00mZg",
    "outputId": "0ac26a98-2d9f-4c16-9474-65087e2b9e89"
   },
   "outputs": [
    {
     "data": {
      "text/plain": [
       "0    1114\n",
       "1     457\n",
       "2     442\n",
       "4     213\n",
       "3     130\n",
       "Name: AgreeDisagree2, dtype: int64"
      ]
     },
     "execution_count": 588,
     "metadata": {
      "tags": []
     },
     "output_type": "execute_result"
    }
   ],
   "source": [
    "train[\"AgreeDisagree2\"].value_counts()"
   ]
  },
  {
   "cell_type": "markdown",
   "metadata": {
    "id": "J9Y7-laA1JLe"
   },
   "source": [
    "## 'AgreeDisagree3'"
   ]
  },
  {
   "cell_type": "code",
   "execution_count": null,
   "metadata": {
    "id": "Vh9lQkTV0ub2"
   },
   "outputs": [],
   "source": [
    "cat_clean(\"AgreeDisagree3\")"
   ]
  },
  {
   "cell_type": "code",
   "execution_count": null,
   "metadata": {
    "colab": {
     "base_uri": "https://localhost:8080/"
    },
    "id": "F_09LssE1Oyd",
    "outputId": "20b2d8b8-22c5-4f61-ffd9-bbb0ae72cec7"
   },
   "outputs": [
    {
     "data": {
      "text/plain": [
       "1    1248\n",
       "4     407\n",
       "2     406\n",
       "0     240\n",
       "3      55\n",
       "Name: AgreeDisagree3, dtype: int64"
      ]
     },
     "execution_count": 590,
     "metadata": {
      "tags": []
     },
     "output_type": "execute_result"
    }
   ],
   "source": [
    "train[\"AgreeDisagree3\"].value_counts()"
   ]
  },
  {
   "cell_type": "markdown",
   "metadata": {
    "id": "DGlISWTJ1RKV"
   },
   "source": [
    "## 'LanguageWorkedWith'"
   ]
  },
  {
   "cell_type": "code",
   "execution_count": null,
   "metadata": {
    "id": "cjfwzqIZ1TCW"
   },
   "outputs": [],
   "source": [
    "cat_clean(\"LanguageWorkedWith\")"
   ]
  },
  {
   "cell_type": "code",
   "execution_count": null,
   "metadata": {
    "colab": {
     "base_uri": "https://localhost:8080/"
    },
    "id": "Vibip1SI1Wjk",
    "outputId": "5b17ac02-eb3b-4e2c-dd06-464db99281c5"
   },
   "outputs": [
    {
     "data": {
      "text/plain": [
       "584     430\n",
       "1159     34\n",
       "592      28\n",
       "928      27\n",
       "1133     23\n",
       "       ... \n",
       "245       1\n",
       "243       1\n",
       "241       1\n",
       "239       1\n",
       "1284      1\n",
       "Name: LanguageWorkedWith, Length: 1286, dtype: int64"
      ]
     },
     "execution_count": 592,
     "metadata": {
      "tags": []
     },
     "output_type": "execute_result"
    }
   ],
   "source": [
    "train[\"LanguageWorkedWith\"].value_counts()"
   ]
  },
  {
   "cell_type": "markdown",
   "metadata": {
    "id": "BuJCR33_13JM"
   },
   "source": [
    "## 'LanguageDesireNextYear'"
   ]
  },
  {
   "cell_type": "code",
   "execution_count": null,
   "metadata": {
    "id": "4yrUnmEZ12EF"
   },
   "outputs": [],
   "source": [
    "cat_clean(\"LanguageDesireNextYear\")"
   ]
  },
  {
   "cell_type": "code",
   "execution_count": null,
   "metadata": {
    "colab": {
     "base_uri": "https://localhost:8080/"
    },
    "id": "ZuziVeHA18Ob",
    "outputId": "592f3c43-4fc2-4937-fa9e-8dc90d0d1c1f"
   },
   "outputs": [
    {
     "data": {
      "text/plain": [
       "1247    540\n",
       "0        27\n",
       "496      20\n",
       "948      19\n",
       "520      15\n",
       "       ... \n",
       "191       1\n",
       "189       1\n",
       "187       1\n",
       "185       1\n",
       "1306      1\n",
       "Name: LanguageDesireNextYear, Length: 1307, dtype: int64"
      ]
     },
     "execution_count": 594,
     "metadata": {
      "tags": []
     },
     "output_type": "execute_result"
    }
   ],
   "source": [
    "train[\"LanguageDesireNextYear\"].value_counts()"
   ]
  },
  {
   "cell_type": "markdown",
   "metadata": {
    "id": "9QXAMfHq2IZx"
   },
   "source": [
    "## 'DatabaseWorkedWith'"
   ]
  },
  {
   "cell_type": "code",
   "execution_count": null,
   "metadata": {
    "id": "2WsCnsBJ2ERT"
   },
   "outputs": [],
   "source": [
    "cat_clean(\"DatabaseWorkedWith\")"
   ]
  },
  {
   "cell_type": "code",
   "execution_count": null,
   "metadata": {
    "colab": {
     "base_uri": "https://localhost:8080/"
    },
    "id": "NISQKaZY2POm",
    "outputId": "de3313f5-05e3-4bda-f5f2-509a9c1038c5"
   },
   "outputs": [
    {
     "data": {
      "text/plain": [
       "474    802\n",
       "272    129\n",
       "490     76\n",
       "344     60\n",
       "579     39\n",
       "      ... \n",
       "1        1\n",
       "3        1\n",
       "5        1\n",
       "7        1\n",
       "584      1\n",
       "Name: DatabaseWorkedWith, Length: 586, dtype: int64"
      ]
     },
     "execution_count": 596,
     "metadata": {
      "tags": []
     },
     "output_type": "execute_result"
    }
   ],
   "source": [
    "train[\"DatabaseWorkedWith\"].value_counts()"
   ]
  },
  {
   "cell_type": "markdown",
   "metadata": {
    "id": "RAfgO1Y22Ty9"
   },
   "source": [
    "## 'DatabaseDesireNextYear'"
   ]
  },
  {
   "cell_type": "code",
   "execution_count": null,
   "metadata": {
    "id": "eAF35i7f2Sno"
   },
   "outputs": [],
   "source": [
    "cat_clean(\"DatabaseDesireNextYear\")"
   ]
  },
  {
   "cell_type": "code",
   "execution_count": null,
   "metadata": {
    "colab": {
     "base_uri": "https://localhost:8080/"
    },
    "id": "dA27vLA-2aJ_",
    "outputId": "6fc5d400-2112-41b6-d90f-5b654c3bb95a"
   },
   "outputs": [
    {
     "data": {
      "text/plain": [
       "616    963\n",
       "479     63\n",
       "176     57\n",
       "416     49\n",
       "681     26\n",
       "      ... \n",
       "483      1\n",
       "45       1\n",
       "47       1\n",
       "49       1\n",
       "688      1\n",
       "Name: DatabaseDesireNextYear, Length: 689, dtype: int64"
      ]
     },
     "execution_count": 598,
     "metadata": {
      "tags": []
     },
     "output_type": "execute_result"
    }
   ],
   "source": [
    "train[\"DatabaseDesireNextYear\"].value_counts()"
   ]
  },
  {
   "cell_type": "markdown",
   "metadata": {
    "id": "op0B01kT2mol"
   },
   "source": [
    "## 'PlatformWorkedWith'"
   ]
  },
  {
   "cell_type": "code",
   "execution_count": null,
   "metadata": {
    "id": "55wwnoit2dIh"
   },
   "outputs": [],
   "source": [
    "cat_clean(\"PlatformWorkedWith\")"
   ]
  },
  {
   "cell_type": "code",
   "execution_count": null,
   "metadata": {
    "colab": {
     "base_uri": "https://localhost:8080/"
    },
    "id": "Z33J358E2sGG",
    "outputId": "d7d0acd8-9d97-4871-ab58-c3ea46e116f8"
   },
   "outputs": [
    {
     "data": {
      "text/plain": [
       "656    828\n",
       "606    118\n",
       "632     69\n",
       "358     48\n",
       "47      40\n",
       "      ... \n",
       "93       1\n",
       "95       1\n",
       "97       1\n",
       "99       1\n",
       "576      1\n",
       "Name: PlatformWorkedWith, Length: 662, dtype: int64"
      ]
     },
     "execution_count": 600,
     "metadata": {
      "tags": []
     },
     "output_type": "execute_result"
    }
   ],
   "source": [
    "train[\"PlatformWorkedWith\"].value_counts()"
   ]
  },
  {
   "cell_type": "markdown",
   "metadata": {
    "id": "SwttruzC29Ed"
   },
   "source": [
    "## 'PlatformDesireNextYear'"
   ]
  },
  {
   "cell_type": "code",
   "execution_count": null,
   "metadata": {
    "id": "oMStu6Fr2u2Z"
   },
   "outputs": [],
   "source": [
    "cat_clean(\"PlatformDesireNextYear\")"
   ]
  },
  {
   "cell_type": "code",
   "execution_count": null,
   "metadata": {
    "colab": {
     "base_uri": "https://localhost:8080/"
    },
    "id": "sju7sOOD3BDz",
    "outputId": "32964018-b442-4201-9e18-42e63e45e2fa"
   },
   "outputs": [
    {
     "data": {
      "text/plain": [
       "739    909\n",
       "782     49\n",
       "760     40\n",
       "600     36\n",
       "491     35\n",
       "      ... \n",
       "137      1\n",
       "135      1\n",
       "715      1\n",
       "131      1\n",
       "726      1\n",
       "Name: PlatformDesireNextYear, Length: 787, dtype: int64"
      ]
     },
     "execution_count": 602,
     "metadata": {
      "tags": []
     },
     "output_type": "execute_result"
    }
   ],
   "source": [
    "train[\"PlatformDesireNextYear\"].value_counts()"
   ]
  },
  {
   "cell_type": "markdown",
   "metadata": {
    "id": "b6rRRZGT3IkJ"
   },
   "source": [
    "## 'FrameworkWorkedWith'"
   ]
  },
  {
   "cell_type": "code",
   "execution_count": null,
   "metadata": {
    "id": "p1d_X2Fe3EyI"
   },
   "outputs": [],
   "source": [
    "cat_clean(\"FrameworkWorkedWith\")"
   ]
  },
  {
   "cell_type": "code",
   "execution_count": null,
   "metadata": {
    "colab": {
     "base_uri": "https://localhost:8080/"
    },
    "id": "MQTGoT0b3NOe",
    "outputId": "1d313123-9575-4704-cbce-e262febe8e86"
   },
   "outputs": [
    {
     "data": {
      "text/plain": [
       "131    1162\n",
       "190      86\n",
       "163      86\n",
       "167      75\n",
       "62       73\n",
       "       ... \n",
       "29        1\n",
       "31        1\n",
       "33        1\n",
       "35        1\n",
       "197       1\n",
       "Name: FrameworkWorkedWith, Length: 198, dtype: int64"
      ]
     },
     "execution_count": 604,
     "metadata": {
      "tags": []
     },
     "output_type": "execute_result"
    }
   ],
   "source": [
    "train[\"FrameworkWorkedWith\"].value_counts()"
   ]
  },
  {
   "cell_type": "markdown",
   "metadata": {
    "id": "FqKRuJ6d3UUT"
   },
   "source": [
    "## 'FrameworkDesireNextYear'"
   ]
  },
  {
   "cell_type": "code",
   "execution_count": null,
   "metadata": {
    "id": "sdT4zsZO3SlN"
   },
   "outputs": [],
   "source": [
    "cat_clean(\"FrameworkDesireNextYear\")"
   ]
  },
  {
   "cell_type": "code",
   "execution_count": null,
   "metadata": {
    "colab": {
     "base_uri": "https://localhost:8080/"
    },
    "id": "cNuCd6-V3cPJ",
    "outputId": "5fa78063-47db-46d1-997f-63127745a5b6"
   },
   "outputs": [
    {
     "data": {
      "text/plain": [
       "285    1051\n",
       "233      83\n",
       "282      64\n",
       "325      63\n",
       "307      57\n",
       "       ... \n",
       "29        1\n",
       "27        1\n",
       "25        1\n",
       "23        1\n",
       "330       1\n",
       "Name: FrameworkDesireNextYear, Length: 331, dtype: int64"
      ]
     },
     "execution_count": 606,
     "metadata": {
      "tags": []
     },
     "output_type": "execute_result"
    }
   ],
   "source": [
    "train[\"FrameworkDesireNextYear\"].value_counts()"
   ]
  },
  {
   "cell_type": "markdown",
   "metadata": {
    "id": "-qQ1XpYQ4PPW"
   },
   "source": [
    "## 'IDE'"
   ]
  },
  {
   "cell_type": "code",
   "execution_count": null,
   "metadata": {
    "id": "4vKwigE53_8P"
   },
   "outputs": [],
   "source": [
    "cat_clean(\"IDE\")"
   ]
  },
  {
   "cell_type": "code",
   "execution_count": null,
   "metadata": {
    "colab": {
     "base_uri": "https://localhost:8080/"
    },
    "id": "f_kPu8Dv4W5s",
    "outputId": "2be9c863-343c-4c4c-89dc-6f17cb920323"
   },
   "outputs": [
    {
     "data": {
      "text/plain": [
       "722    530\n",
       "652     62\n",
       "650     61\n",
       "712     54\n",
       "719     52\n",
       "      ... \n",
       "45       1\n",
       "47       1\n",
       "49       1\n",
       "51       1\n",
       "698      1\n",
       "Name: IDE, Length: 726, dtype: int64"
      ]
     },
     "execution_count": 608,
     "metadata": {
      "tags": []
     },
     "output_type": "execute_result"
    }
   ],
   "source": [
    "train[\"IDE\"].value_counts()"
   ]
  },
  {
   "cell_type": "markdown",
   "metadata": {
    "id": "rhD9sx5Q4aov"
   },
   "source": [
    "## 'OperatingSystem'"
   ]
  },
  {
   "cell_type": "code",
   "execution_count": null,
   "metadata": {
    "id": "_tFh3Vfr4Y5a"
   },
   "outputs": [],
   "source": [
    "cat_clean(\"OperatingSystem\")"
   ]
  },
  {
   "cell_type": "code",
   "execution_count": null,
   "metadata": {
    "colab": {
     "base_uri": "https://localhost:8080/"
    },
    "id": "Wg-u62y54emo",
    "outputId": "d72513a6-c841-422e-d60c-11db0e5144f0"
   },
   "outputs": [
    {
     "data": {
      "text/plain": [
       "3    1376\n",
       "2     547\n",
       "1     429\n",
       "0       4\n",
       "Name: OperatingSystem, dtype: int64"
      ]
     },
     "execution_count": 610,
     "metadata": {
      "tags": []
     },
     "output_type": "execute_result"
    }
   ],
   "source": [
    "train[\"OperatingSystem\"].value_counts()"
   ]
  },
  {
   "cell_type": "markdown",
   "metadata": {
    "id": "x5stso5A4jWI"
   },
   "source": [
    "## 'Methodology'"
   ]
  },
  {
   "cell_type": "code",
   "execution_count": null,
   "metadata": {
    "id": "WEhVgTqG4hN2"
   },
   "outputs": [],
   "source": [
    "cat_clean(\"Methodology\")"
   ]
  },
  {
   "cell_type": "code",
   "execution_count": null,
   "metadata": {
    "colab": {
     "base_uri": "https://localhost:8080/"
    },
    "id": "Uo9s7bVX4pU_",
    "outputId": "d5b0c63a-6715-4845-bd05-711ab26ed188"
   },
   "outputs": [
    {
     "data": {
      "text/plain": [
       "102    1048\n",
       "0       227\n",
       "88      168\n",
       "86       77\n",
       "100      68\n",
       "       ... \n",
       "53        1\n",
       "61        1\n",
       "9         1\n",
       "68        1\n",
       "127       1\n",
       "Name: Methodology, Length: 140, dtype: int64"
      ]
     },
     "execution_count": 612,
     "metadata": {
      "tags": []
     },
     "output_type": "execute_result"
    }
   ],
   "source": [
    "train[\"Methodology\"].value_counts()"
   ]
  },
  {
   "cell_type": "markdown",
   "metadata": {
    "id": "q3BRUYH24vVH"
   },
   "source": [
    "## 'VersionControl'"
   ]
  },
  {
   "cell_type": "code",
   "execution_count": null,
   "metadata": {
    "id": "o9TGJAKc4txx"
   },
   "outputs": [],
   "source": [
    "cat_clean(\"VersionControl\")"
   ]
  },
  {
   "cell_type": "code",
   "execution_count": null,
   "metadata": {
    "colab": {
     "base_uri": "https://localhost:8080/"
    },
    "id": "7JUYmZLR40gd",
    "outputId": "29630bdb-fa67-4feb-9938-0121b00068db"
   },
   "outputs": [
    {
     "data": {
      "text/plain": [
       "5     1583\n",
       "18     181\n",
       "25     132\n",
       "31      63\n",
       "39      52\n",
       "0       45\n",
       "9       41\n",
       "7       35\n",
       "28      33\n",
       "21      26\n",
       "8       25\n",
       "44      15\n",
       "1       14\n",
       "24      14\n",
       "30       9\n",
       "19       9\n",
       "3        9\n",
       "20       8\n",
       "12       8\n",
       "41       7\n",
       "27       5\n",
       "26       4\n",
       "32       4\n",
       "34       3\n",
       "15       3\n",
       "2        3\n",
       "33       2\n",
       "11       2\n",
       "13       2\n",
       "22       2\n",
       "42       2\n",
       "6        1\n",
       "16       1\n",
       "10       1\n",
       "4        1\n",
       "14       1\n",
       "23       1\n",
       "37       1\n",
       "35       1\n",
       "36       1\n",
       "38       1\n",
       "40       1\n",
       "43       1\n",
       "29       1\n",
       "17       1\n",
       "45       1\n",
       "Name: VersionControl, dtype: int64"
      ]
     },
     "execution_count": 614,
     "metadata": {
      "tags": []
     },
     "output_type": "execute_result"
    }
   ],
   "source": [
    "train[\"VersionControl\"].value_counts()"
   ]
  },
  {
   "cell_type": "markdown",
   "metadata": {
    "id": "QZKpEuSl458C"
   },
   "source": [
    "## 'CheckIncode'"
   ]
  },
  {
   "cell_type": "code",
   "execution_count": null,
   "metadata": {
    "id": "en2wnEW942xw"
   },
   "outputs": [],
   "source": [
    "cat_clean(\"CheckInCode\")"
   ]
  },
  {
   "cell_type": "code",
   "execution_count": null,
   "metadata": {
    "colab": {
     "base_uri": "https://localhost:8080/"
    },
    "id": "7KmLA4-W5AI9",
    "outputId": "653713c5-ffdd-4d2d-ec47-96360bd7f0a2"
   },
   "outputs": [
    {
     "data": {
      "text/plain": [
       "2    1694\n",
       "0     312\n",
       "4     171\n",
       "5     121\n",
       "1      36\n",
       "3      22\n",
       "Name: CheckInCode, dtype: int64"
      ]
     },
     "execution_count": 616,
     "metadata": {
      "tags": []
     },
     "output_type": "execute_result"
    }
   ],
   "source": [
    "train[\"CheckInCode\"].value_counts()"
   ]
  },
  {
   "cell_type": "markdown",
   "metadata": {
    "id": "ISBAOx4W5LPg"
   },
   "source": [
    "## 'AIDangerous'"
   ]
  },
  {
   "cell_type": "code",
   "execution_count": null,
   "metadata": {
    "id": "PL1O2eGN5MRX"
   },
   "outputs": [],
   "source": [
    "cat_clean(\"AIDangerous\")"
   ]
  },
  {
   "cell_type": "code",
   "execution_count": null,
   "metadata": {
    "colab": {
     "base_uri": "https://localhost:8080/"
    },
    "id": "2a5as8f55URa",
    "outputId": "cc4ca148-c80c-4f3e-9535-82b7b3e328c9"
   },
   "outputs": [
    {
     "data": {
      "text/plain": [
       "0    1230\n",
       "1     433\n",
       "2     392\n",
       "3     301\n",
       "Name: AIDangerous, dtype: int64"
      ]
     },
     "execution_count": 618,
     "metadata": {
      "tags": []
     },
     "output_type": "execute_result"
    }
   ],
   "source": [
    "train[\"AIDangerous\"].value_counts()"
   ]
  },
  {
   "cell_type": "markdown",
   "metadata": {
    "id": "-6LrdbOY5bEe"
   },
   "source": [
    "## 'AIInteresting'\n"
   ]
  },
  {
   "cell_type": "code",
   "execution_count": null,
   "metadata": {
    "id": "9xsbF8d-5XHU"
   },
   "outputs": [],
   "source": [
    "cat_clean(\"AIInteresting\")"
   ]
  },
  {
   "cell_type": "code",
   "execution_count": null,
   "metadata": {
    "colab": {
     "base_uri": "https://localhost:8080/"
    },
    "id": "IRTBE-eL5goa",
    "outputId": "af25d38a-9541-4bde-ff3e-b98ea4fbf9a2"
   },
   "outputs": [
    {
     "data": {
      "text/plain": [
       "3    1377\n",
       "0     389\n",
       "1     385\n",
       "2     205\n",
       "Name: AIInteresting, dtype: int64"
      ]
     },
     "execution_count": 620,
     "metadata": {
      "tags": []
     },
     "output_type": "execute_result"
    }
   ],
   "source": [
    "train[\"AIInteresting\"].value_counts()"
   ]
  },
  {
   "cell_type": "markdown",
   "metadata": {
    "id": "cN8JkD0z5kwy"
   },
   "source": [
    "## 'AIResponsible'"
   ]
  },
  {
   "cell_type": "code",
   "execution_count": null,
   "metadata": {
    "id": "9nTXXtjF5iqJ"
   },
   "outputs": [],
   "source": [
    "cat_clean(\"AIResponsible\")"
   ]
  },
  {
   "cell_type": "code",
   "execution_count": null,
   "metadata": {
    "colab": {
     "base_uri": "https://localhost:8080/"
    },
    "id": "qdr8_NR25owS",
    "outputId": "7b8403a5-3154-4e7b-879d-d8ce772b7c10"
   },
   "outputs": [
    {
     "data": {
      "text/plain": [
       "3    1483\n",
       "0     482\n",
       "2     256\n",
       "1     135\n",
       "Name: AIResponsible, dtype: int64"
      ]
     },
     "execution_count": 622,
     "metadata": {
      "tags": []
     },
     "output_type": "execute_result"
    }
   ],
   "source": [
    "train[\"AIResponsible\"].value_counts()"
   ]
  },
  {
   "cell_type": "markdown",
   "metadata": {
    "id": "Z6Auxrke5tOA"
   },
   "source": [
    "## 'AIFuture'"
   ]
  },
  {
   "cell_type": "code",
   "execution_count": null,
   "metadata": {
    "id": "TSpNa1DN5q9b"
   },
   "outputs": [],
   "source": [
    "cat_clean(\"AIFuture\")"
   ]
  },
  {
   "cell_type": "code",
   "execution_count": null,
   "metadata": {
    "colab": {
     "base_uri": "https://localhost:8080/"
    },
    "id": "uVXdzJj85wtQ",
    "outputId": "f3507eae-4725-46e9-989b-9fd95eef8962"
   },
   "outputs": [
    {
     "data": {
      "text/plain": [
       "1    1879\n",
       "2     322\n",
       "0     155\n",
       "Name: AIFuture, dtype: int64"
      ]
     },
     "execution_count": 624,
     "metadata": {
      "tags": []
     },
     "output_type": "execute_result"
    }
   ],
   "source": [
    "train[\"AIFuture\"].value_counts()"
   ]
  },
  {
   "cell_type": "markdown",
   "metadata": {
    "id": "_k3q5YM251SC"
   },
   "source": [
    "## 'Age'"
   ]
  },
  {
   "cell_type": "code",
   "execution_count": null,
   "metadata": {
    "id": "rKcUPhjA5zE1"
   },
   "outputs": [],
   "source": [
    "train[\"Age\"].fillna(train[\"Age\"].mode()[0],inplace=True)\n",
    "test[\"Age\"].fillna(test[\"Age\"].mode()[0],inplace=True)\n",
    "\n",
    "train[\"Age\"]=le.fit_transform(train[\"Age\"])\n",
    "test[\"Age\"]=le.fit_transform(test[\"Age\"])"
   ]
  },
  {
   "cell_type": "code",
   "execution_count": null,
   "metadata": {
    "colab": {
     "base_uri": "https://localhost:8080/"
    },
    "id": "En80CyEe5346",
    "outputId": "0bf0e7de-79ae-4b28-9285-35ce78652d56"
   },
   "outputs": [
    {
     "data": {
      "text/plain": [
       "1    1637\n",
       "0     331\n",
       "2     288\n",
       "3      76\n",
       "4      16\n",
       "5       8\n",
       "Name: Age, dtype: int64"
      ]
     },
     "execution_count": 626,
     "metadata": {
      "tags": []
     },
     "output_type": "execute_result"
    }
   ],
   "source": [
    "train[\"Age\"].value_counts()"
   ]
  },
  {
   "cell_type": "markdown",
   "metadata": {
    "id": "ownM1zSA5-Y-"
   },
   "source": [
    "## 'term'"
   ]
  },
  {
   "cell_type": "code",
   "execution_count": null,
   "metadata": {
    "id": "wISOfTtn55kT"
   },
   "outputs": [],
   "source": [
    "train[\"term\"].fillna(train[\"term\"].mode()[0],inplace=True)\n",
    "test[\"term\"].fillna(test[\"term\"].mode()[0],inplace=True)\n",
    "\n",
    "train[\"term\"]=le.fit_transform(train[\"term\"])\n",
    "test[\"term\"]=le.fit_transform(test[\"term\"])"
   ]
  },
  {
   "cell_type": "code",
   "execution_count": null,
   "metadata": {
    "colab": {
     "base_uri": "https://localhost:8080/"
    },
    "id": "lmg3vvRz6BAA",
    "outputId": "cceb8483-261b-4c38-9e45-9f7f43d5f8c9"
   },
   "outputs": [
    {
     "data": {
      "text/plain": [
       "0    1665\n",
       "1     691\n",
       "Name: term, dtype: int64"
      ]
     },
     "execution_count": 628,
     "metadata": {
      "tags": []
     },
     "output_type": "execute_result"
    }
   ],
   "source": [
    "train[\"term\"].value_counts()"
   ]
  },
  {
   "cell_type": "markdown",
   "metadata": {
    "id": "S2a-2jDS6KKp"
   },
   "source": [
    "## 'emp_length'"
   ]
  },
  {
   "cell_type": "code",
   "execution_count": null,
   "metadata": {
    "id": "Hj1KA4ES6H8S"
   },
   "outputs": [],
   "source": [
    "train[\"emp_length\"].fillna(train[\"emp_length\"].mode()[0],inplace=True)\n",
    "test[\"emp_length\"].fillna(test[\"emp_length\"].mode()[0],inplace=True)\n",
    "\n",
    "train[\"emp_length\"]=le.fit_transform(train[\"emp_length\"])\n",
    "test[\"emp_length\"]=le.fit_transform(test[\"emp_length\"])"
   ]
  },
  {
   "cell_type": "code",
   "execution_count": null,
   "metadata": {
    "colab": {
     "base_uri": "https://localhost:8080/"
    },
    "id": "s-LyEoSo6RNx",
    "outputId": "e3c1c0bc-63c1-4b8a-f8aa-52ee9e7b5d86"
   },
   "outputs": [
    {
     "data": {
      "text/plain": [
       "1     914\n",
       "10    222\n",
       "3     215\n",
       "2     212\n",
       "5     148\n",
       "0     138\n",
       "4     134\n",
       "8     118\n",
       "6      98\n",
       "9      81\n",
       "7      76\n",
       "Name: emp_length, dtype: int64"
      ]
     },
     "execution_count": 630,
     "metadata": {
      "tags": []
     },
     "output_type": "execute_result"
    }
   ],
   "source": [
    "train[\"emp_length\"].value_counts()"
   ]
  },
  {
   "cell_type": "markdown",
   "metadata": {
    "id": "7bztSpnH6Wt4"
   },
   "source": [
    "## 'loan_status'"
   ]
  },
  {
   "cell_type": "code",
   "execution_count": null,
   "metadata": {
    "id": "XuDh1uIu6TSu"
   },
   "outputs": [],
   "source": [
    "cat_clean(\"loan_status\")"
   ]
  },
  {
   "cell_type": "code",
   "execution_count": null,
   "metadata": {
    "colab": {
     "base_uri": "https://localhost:8080/"
    },
    "id": "dwCWpBdz6amS",
    "outputId": "f539078e-a282-4da5-e42f-f0bdb2f2dd7b"
   },
   "outputs": [
    {
     "data": {
      "text/plain": [
       "3    1751\n",
       "1     354\n",
       "2     238\n",
       "4      12\n",
       "0       1\n",
       "Name: loan_status, dtype: int64"
      ]
     },
     "execution_count": 632,
     "metadata": {
      "tags": []
     },
     "output_type": "execute_result"
    }
   ],
   "source": [
    "train[\"loan_status\"].value_counts()"
   ]
  },
  {
   "cell_type": "markdown",
   "metadata": {
    "id": "me5pjmKe6mZW"
   },
   "source": [
    "## 'pymnt_plan'"
   ]
  },
  {
   "cell_type": "code",
   "execution_count": null,
   "metadata": {
    "id": "iKXj_4u76gZS"
   },
   "outputs": [],
   "source": [
    "train[\"pymnt_plan\"].fillna(train[\"pymnt_plan\"].mode()[0],inplace=True)\n",
    "test[\"pymnt_plan\"].fillna(test[\"pymnt_plan\"].mode()[0],inplace=True)\n",
    "\n",
    "train[\"pymnt_plan\"]=le.fit_transform(train[\"pymnt_plan\"])\n",
    "test[\"pymnt_plan\"]=le.fit_transform(test[\"pymnt_plan\"])"
   ]
  },
  {
   "cell_type": "code",
   "execution_count": null,
   "metadata": {
    "colab": {
     "base_uri": "https://localhost:8080/"
    },
    "id": "MQDD6YnN6snm",
    "outputId": "406737ce-9711-46e4-8ccf-4e29737cb083"
   },
   "outputs": [
    {
     "data": {
      "text/plain": [
       "0    2356\n",
       "Name: pymnt_plan, dtype: int64"
      ]
     },
     "execution_count": 634,
     "metadata": {
      "tags": []
     },
     "output_type": "execute_result"
    }
   ],
   "source": [
    "train[\"pymnt_plan\"].value_counts()"
   ]
  },
  {
   "cell_type": "markdown",
   "metadata": {
    "id": "e-0iPaUb6y_z"
   },
   "source": [
    "## 'url'"
   ]
  },
  {
   "cell_type": "code",
   "execution_count": null,
   "metadata": {
    "id": "jqRfvhBe6xLY"
   },
   "outputs": [],
   "source": [
    "train[\"url\"].fillna(train[\"url\"].mode()[0],inplace=True)\n",
    "test[\"url\"].fillna(test[\"url\"].mode()[0],inplace=True)"
   ]
  },
  {
   "cell_type": "code",
   "execution_count": null,
   "metadata": {
    "id": "Ayq5TWsI7m4d"
   },
   "outputs": [],
   "source": [
    "train[\"url\"]=le.fit_transform(train[\"url\"])\n",
    "test[\"url\"]=le.fit_transform(test[\"url\"])"
   ]
  },
  {
   "cell_type": "code",
   "execution_count": null,
   "metadata": {
    "colab": {
     "base_uri": "https://localhost:8080/"
    },
    "id": "g5oetUMC62e2",
    "outputId": "8daaca34-c3fc-4659-c54e-bff5185e45c3"
   },
   "outputs": [
    {
     "data": {
      "text/plain": [
       "2047    1\n",
       "1236    1\n",
       "1268    1\n",
       "1266    1\n",
       "1264    1\n",
       "       ..\n",
       "477     1\n",
       "475     1\n",
       "473     1\n",
       "471     1\n",
       "0       1\n",
       "Name: url, Length: 2356, dtype: int64"
      ]
     },
     "execution_count": 637,
     "metadata": {
      "tags": []
     },
     "output_type": "execute_result"
    }
   ],
   "source": [
    "train[\"url\"].value_counts()"
   ]
  },
  {
   "cell_type": "markdown",
   "metadata": {
    "id": "GK2H-1zL66c-"
   },
   "source": [
    "## 'purpose'"
   ]
  },
  {
   "cell_type": "code",
   "execution_count": null,
   "metadata": {
    "id": "Payp8uz964hW"
   },
   "outputs": [],
   "source": [
    "cat_clean(\"purpose\")"
   ]
  },
  {
   "cell_type": "code",
   "execution_count": null,
   "metadata": {
    "colab": {
     "base_uri": "https://localhost:8080/"
    },
    "id": "xCvf-yvV69I9",
    "outputId": "a19ad78a-7595-4fdf-b65f-55b3c9138f73"
   },
   "outputs": [
    {
     "data": {
      "text/plain": [
       "3     1373\n",
       "2      595\n",
       "0      118\n",
       "4      117\n",
       "6       43\n",
       "1       28\n",
       "10      27\n",
       "7       18\n",
       "11      13\n",
       "5       12\n",
       "8       11\n",
       "9        1\n",
       "Name: purpose, dtype: int64"
      ]
     },
     "execution_count": 639,
     "metadata": {
      "tags": []
     },
     "output_type": "execute_result"
    }
   ],
   "source": [
    "train[\"purpose\"].value_counts()"
   ]
  },
  {
   "cell_type": "markdown",
   "metadata": {
    "id": "Uxi30VCq7Bqk"
   },
   "source": [
    "## 'title'"
   ]
  },
  {
   "cell_type": "code",
   "execution_count": null,
   "metadata": {
    "id": "wUz3xpGP6_jI"
   },
   "outputs": [],
   "source": [
    "cat_clean(\"title\")"
   ]
  },
  {
   "cell_type": "code",
   "execution_count": null,
   "metadata": {
    "colab": {
     "base_uri": "https://localhost:8080/"
    },
    "id": "kvrQBDow7FAH",
    "outputId": "369425e6-3188-40fd-ea3a-516a685c57b1"
   },
   "outputs": [
    {
     "data": {
      "text/plain": [
       "3     1400\n",
       "2      578\n",
       "6      113\n",
       "10     112\n",
       "7       43\n",
       "1       28\n",
       "0       27\n",
       "8       18\n",
       "11      13\n",
       "5       12\n",
       "9       11\n",
       "4        1\n",
       "Name: title, dtype: int64"
      ]
     },
     "execution_count": 641,
     "metadata": {
      "tags": []
     },
     "output_type": "execute_result"
    }
   ],
   "source": [
    "train[\"title\"].value_counts()"
   ]
  },
  {
   "cell_type": "markdown",
   "metadata": {
    "id": "EXeFsAf37JGQ"
   },
   "source": [
    "## 'zip_code'"
   ]
  },
  {
   "cell_type": "code",
   "execution_count": null,
   "metadata": {
    "id": "5-hbWPHt7GyO"
   },
   "outputs": [],
   "source": [
    "train[\"zip_code\"].fillna(train[\"zip_code\"].mode()[0],inplace=True)\n",
    "test[\"zip_code\"].fillna(test[\"zip_code\"].mode()[0],inplace=True)"
   ]
  },
  {
   "cell_type": "code",
   "execution_count": null,
   "metadata": {
    "id": "rWYKA8Yj78rh"
   },
   "outputs": [],
   "source": [
    "train[\"zip_code\"]=le.fit_transform(train[\"zip_code\"])\n",
    "test[\"zip_code\"]=le.fit_transform(test[\"zip_code\"])"
   ]
  },
  {
   "cell_type": "code",
   "execution_count": null,
   "metadata": {
    "colab": {
     "base_uri": "https://localhost:8080/"
    },
    "id": "7UfOLc7j7MJH",
    "outputId": "d7a2cbb8-5ca4-4735-d70f-1fe83b72d2d7"
   },
   "outputs": [
    {
     "data": {
      "text/plain": [
       "69     29\n",
       "203    29\n",
       "377    27\n",
       "441    27\n",
       "455    25\n",
       "       ..\n",
       "171     1\n",
       "173     1\n",
       "175     1\n",
       "396     1\n",
       "580     1\n",
       "Name: zip_code, Length: 582, dtype: int64"
      ]
     },
     "execution_count": 644,
     "metadata": {
      "tags": []
     },
     "output_type": "execute_result"
    }
   ],
   "source": [
    "train[\"zip_code\"].value_counts()"
   ]
  },
  {
   "cell_type": "markdown",
   "metadata": {
    "id": "3H-qG4MG8DBw"
   },
   "source": [
    "## 'addr_state'"
   ]
  },
  {
   "cell_type": "code",
   "execution_count": null,
   "metadata": {
    "id": "WX57fnXY8FT5"
   },
   "outputs": [],
   "source": [
    "cat_clean(\"addr_state\")"
   ]
  },
  {
   "cell_type": "code",
   "execution_count": null,
   "metadata": {
    "colab": {
     "base_uri": "https://localhost:8080/"
    },
    "id": "gfBvyXgj8PLv",
    "outputId": "4023cb56-e276-4b13-ba9f-e36e8f450183"
   },
   "outputs": [
    {
     "data": {
      "text/plain": [
       "4     269\n",
       "41    199\n",
       "32    198\n",
       "9     155\n",
       "33     91\n",
       "43     87\n",
       "10     82\n",
       "18     82\n",
       "12     81\n",
       "36     81\n",
       "29     74\n",
       "25     68\n",
       "17     68\n",
       "20     66\n",
       "5      60\n",
       "22     52\n",
       "3      50\n",
       "45     45\n",
       "21     45\n",
       "6      41\n",
       "40     37\n",
       "1      37\n",
       "13     36\n",
       "38     32\n",
       "16     31\n",
       "46     29\n",
       "31     28\n",
       "35     28\n",
       "2      24\n",
       "15     24\n",
       "14     21\n",
       "11     13\n",
       "37     13\n",
       "19     12\n",
       "34     12\n",
       "8      12\n",
       "47     10\n",
       "30      9\n",
       "23      9\n",
       "28      8\n",
       "27      6\n",
       "44      6\n",
       "24      5\n",
       "26      4\n",
       "39      4\n",
       "7       4\n",
       "48      3\n",
       "42      3\n",
       "0       2\n",
       "Name: addr_state, dtype: int64"
      ]
     },
     "execution_count": 646,
     "metadata": {
      "tags": []
     },
     "output_type": "execute_result"
    }
   ],
   "source": [
    "train[\"addr_state\"].value_counts()"
   ]
  },
  {
   "cell_type": "markdown",
   "metadata": {
    "id": "gD3VGmn58UBp"
   },
   "source": [
    "## 'dti'"
   ]
  },
  {
   "cell_type": "code",
   "execution_count": null,
   "metadata": {
    "colab": {
     "base_uri": "https://localhost:8080/"
    },
    "id": "0ktBsR2o8SIA",
    "outputId": "1f6f60fc-0850-4cb7-ea81-61c8c2d40341"
   },
   "outputs": [
    {
     "data": {
      "text/plain": [
       "count    2356.000000\n",
       "mean       19.314321\n",
       "std         8.598822\n",
       "min         0.000000\n",
       "25%        12.997500\n",
       "50%        18.785000\n",
       "75%        25.430000\n",
       "max        51.200000\n",
       "Name: dti, dtype: float64"
      ]
     },
     "execution_count": 647,
     "metadata": {
      "tags": []
     },
     "output_type": "execute_result"
    }
   ],
   "source": [
    "train[\"dti\"].describe()"
   ]
  },
  {
   "cell_type": "code",
   "execution_count": null,
   "metadata": {
    "colab": {
     "base_uri": "https://localhost:8080/"
    },
    "id": "bYceAlh88a-Z",
    "outputId": "c3d30c6e-1c9b-4b03-aeaa-f3e4a30b48c4"
   },
   "outputs": [
    {
     "data": {
      "text/plain": [
       "(0, 0)"
      ]
     },
     "execution_count": 648,
     "metadata": {
      "tags": []
     },
     "output_type": "execute_result"
    }
   ],
   "source": [
    "train[\"dti\"].isnull().sum(),test[\"dti\"].isnull().sum()"
   ]
  },
  {
   "cell_type": "code",
   "execution_count": null,
   "metadata": {
    "colab": {
     "base_uri": "https://localhost:8080/",
     "height": 378
    },
    "id": "Hk1G1DXE8hzu",
    "outputId": "5ae1d8a0-5e07-4839-8bfc-349d21495c94"
   },
   "outputs": [
    {
     "data": {
      "text/plain": [
       "<matplotlib.axes._subplots.AxesSubplot at 0x7f730584a550>"
      ]
     },
     "execution_count": 649,
     "metadata": {
      "tags": []
     },
     "output_type": "execute_result"
    },
    {
     "data": {
      "image/png": "[encoded data removed]",
      "text/plain": [
       "<Figure size 576x396 with 1 Axes>"
      ]
     },
     "metadata": {
      "tags": []
     },
     "output_type": "display_data"
    }
   ],
   "source": [
    "sb.boxplot(x=\"dti\",data=train)"
   ]
  },
  {
   "cell_type": "code",
   "execution_count": null,
   "metadata": {
    "id": "jTu1zsb88mxx"
   },
   "outputs": [],
   "source": [
    "train[\"dti\"]=train[\"dti\"].apply(lambda x:train[\"dti\"].median() if x>40 else x)"
   ]
  },
  {
   "cell_type": "code",
   "execution_count": null,
   "metadata": {
    "colab": {
     "base_uri": "https://localhost:8080/",
     "height": 378
    },
    "id": "JEC36AcG84Er",
    "outputId": "7a10d5c5-b60a-4740-d84a-998e5915cdf1"
   },
   "outputs": [
    {
     "data": {
      "text/plain": [
       "<matplotlib.axes._subplots.AxesSubplot at 0x7f7305770690>"
      ]
     },
     "execution_count": 651,
     "metadata": {
      "tags": []
     },
     "output_type": "execute_result"
    },
    {
     "data": {
      "image/png": "[encoded data removed]",
      "text/plain": [
       "<Figure size 576x396 with 1 Axes>"
      ]
     },
     "metadata": {
      "tags": []
     },
     "output_type": "display_data"
    }
   ],
   "source": [
    "sb.boxplot(x=\"dti\",data=test)"
   ]
  },
  {
   "cell_type": "markdown",
   "metadata": {
    "id": "z5Mp2VYg9Cfn"
   },
   "source": [
    "## 'earliest_cr_line'"
   ]
  },
  {
   "cell_type": "code",
   "execution_count": null,
   "metadata": {
    "id": "SCoY3C6R87xT"
   },
   "outputs": [],
   "source": [
    "train[\"earliest_cr_line\"].fillna(train[\"earliest_cr_line\"].mode()[0],inplace=True)\n",
    "test[\"earliest_cr_line\"].fillna(test[\"earliest_cr_line\"].mode()[0],inplace=True)"
   ]
  },
  {
   "cell_type": "code",
   "execution_count": null,
   "metadata": {
    "id": "vo8FE4ry9Oy5"
   },
   "outputs": [],
   "source": [
    "train[\"earliest_cr_line\"]=le.fit_transform(train[\"earliest_cr_line\"])\n",
    "test[\"earliest_cr_line\"]=le.fit_transform(test[\"earliest_cr_line\"])"
   ]
  },
  {
   "cell_type": "code",
   "execution_count": null,
   "metadata": {
    "colab": {
     "base_uri": "https://localhost:8080/"
    },
    "id": "t63fA2929TP8",
    "outputId": "aa5a383d-4a07-4a9b-bebc-a729e0e67b29"
   },
   "outputs": [
    {
     "data": {
      "text/plain": [
       "80     23\n",
       "63     22\n",
       "69     21\n",
       "81     21\n",
       "59     20\n",
       "       ..\n",
       "238     1\n",
       "261     1\n",
       "259     1\n",
       "257     1\n",
       "212     1\n",
       "Name: earliest_cr_line, Length: 409, dtype: int64"
      ]
     },
     "execution_count": 654,
     "metadata": {
      "tags": []
     },
     "output_type": "execute_result"
    }
   ],
   "source": [
    "train[\"earliest_cr_line\"].value_counts()"
   ]
  },
  {
   "cell_type": "markdown",
   "metadata": {
    "id": "eir36dWk9Z1m"
   },
   "source": [
    "## 'last_pymnt_d'"
   ]
  },
  {
   "cell_type": "code",
   "execution_count": null,
   "metadata": {
    "id": "n5zCSdjt9ZIf"
   },
   "outputs": [],
   "source": [
    "train[\"last_pymnt_d\"].fillna(train[\"last_pymnt_d\"].mode()[0],inplace=True)\n",
    "test[\"last_pymnt_d\"].fillna(test[\"last_pymnt_d\"].mode()[0],inplace=True)"
   ]
  },
  {
   "cell_type": "code",
   "execution_count": null,
   "metadata": {
    "id": "HvpCTI1f9lDR"
   },
   "outputs": [],
   "source": [
    "train[\"last_pymnt_d\"]=le.fit_transform(train[\"last_pymnt_d\"])\n",
    "test[\"last_pymnt_d\"]=le.fit_transform(test[\"last_pymnt_d\"])"
   ]
  },
  {
   "cell_type": "code",
   "execution_count": null,
   "metadata": {
    "colab": {
     "base_uri": "https://localhost:8080/"
    },
    "id": "J4PGW4dZ9uym",
    "outputId": "3c8e2e0e-0ed3-476f-e175-3a608e9e276a"
   },
   "outputs": [
    {
     "data": {
      "text/plain": [
       "37    360\n",
       "36    220\n",
       "38     96\n",
       "26     84\n",
       "31     64\n",
       "23     60\n",
       "2      59\n",
       "15     58\n",
       "12     56\n",
       "16     55\n",
       "13     54\n",
       "18     54\n",
       "10     53\n",
       "14     52\n",
       "21     51\n",
       "20     50\n",
       "35     50\n",
       "33     49\n",
       "24     48\n",
       "29     48\n",
       "28     47\n",
       "25     47\n",
       "11     47\n",
       "17     46\n",
       "27     46\n",
       "19     45\n",
       "5      44\n",
       "30     43\n",
       "1      43\n",
       "22     42\n",
       "8      40\n",
       "32     39\n",
       "0      38\n",
       "7      37\n",
       "9      35\n",
       "34     35\n",
       "6      34\n",
       "3      18\n",
       "4       9\n",
       "Name: last_pymnt_d, dtype: int64"
      ]
     },
     "execution_count": 657,
     "metadata": {
      "tags": []
     },
     "output_type": "execute_result"
    }
   ],
   "source": [
    "train[\"last_pymnt_d\"].value_counts()"
   ]
  },
  {
   "cell_type": "markdown",
   "metadata": {
    "id": "SUyN2C1K9zmD"
   },
   "source": [
    "## 'last_pymnt_amt'"
   ]
  },
  {
   "cell_type": "code",
   "execution_count": null,
   "metadata": {
    "colab": {
     "base_uri": "https://localhost:8080/"
    },
    "id": "On0gA5WT9wpn",
    "outputId": "5fc560ed-3c7d-4bc5-e570-2548a5d76615"
   },
   "outputs": [
    {
     "data": {
      "text/plain": [
       "count     2356.000000\n",
       "mean      4758.851375\n",
       "std       6945.639788\n",
       "min          0.030000\n",
       "25%        366.752500\n",
       "50%        888.200000\n",
       "75%       7050.337500\n",
       "max      35467.750000\n",
       "Name: last_pymnt_amnt, dtype: float64"
      ]
     },
     "execution_count": 658,
     "metadata": {
      "tags": []
     },
     "output_type": "execute_result"
    }
   ],
   "source": [
    "train[\"last_pymnt_amnt\"].describe()"
   ]
  },
  {
   "cell_type": "code",
   "execution_count": null,
   "metadata": {
    "colab": {
     "base_uri": "https://localhost:8080/"
    },
    "id": "EmDlDQSz98V9",
    "outputId": "e571ffbd-be67-411b-9e88-fa4c37cc2934"
   },
   "outputs": [
    {
     "data": {
      "text/plain": [
       "(0, 0)"
      ]
     },
     "execution_count": 659,
     "metadata": {
      "tags": []
     },
     "output_type": "execute_result"
    }
   ],
   "source": [
    "train[\"last_pymnt_amnt\"].isnull().sum(),test[\"last_pymnt_amnt\"].isnull().sum()"
   ]
  },
  {
   "cell_type": "code",
   "execution_count": null,
   "metadata": {
    "colab": {
     "base_uri": "https://localhost:8080/",
     "height": 378
    },
    "id": "PdMo_tOu-BbM",
    "outputId": "1ee444cd-5599-4ae0-e466-0943db5603c4"
   },
   "outputs": [
    {
     "data": {
      "text/plain": [
       "<matplotlib.axes._subplots.AxesSubplot at 0x7f73057b5f90>"
      ]
     },
     "execution_count": 660,
     "metadata": {
      "tags": []
     },
     "output_type": "execute_result"
    },
    {
     "data": {
      "image/png": "[encoded data removed]",
      "text/plain": [
       "<Figure size 576x396 with 1 Axes>"
      ]
     },
     "metadata": {
      "tags": []
     },
     "output_type": "display_data"
    }
   ],
   "source": [
    "sb.boxplot(x=\"last_pymnt_amnt\",data=train)"
   ]
  },
  {
   "cell_type": "code",
   "execution_count": null,
   "metadata": {
    "colab": {
     "base_uri": "https://localhost:8080/",
     "height": 378
    },
    "id": "LbIEx6ra-MwC",
    "outputId": "96d9079d-b0bc-44bb-9c54-f86b8ff1f03a"
   },
   "outputs": [
    {
     "data": {
      "text/plain": [
       "<matplotlib.axes._subplots.AxesSubplot at 0x7f730573c0d0>"
      ]
     },
     "execution_count": 661,
     "metadata": {
      "tags": []
     },
     "output_type": "execute_result"
    },
    {
     "data": {
      "image/png": "[encoded data removed]",
      "text/plain": [
       "<Figure size 576x396 with 1 Axes>"
      ]
     },
     "metadata": {
      "tags": []
     },
     "output_type": "display_data"
    }
   ],
   "source": [
    "sb.boxplot(x=\"last_pymnt_amnt\",data=test)"
   ]
  },
  {
   "cell_type": "code",
   "execution_count": null,
   "metadata": {
    "id": "2EaurNZU-UjI"
   },
   "outputs": [],
   "source": [
    "test[\"last_pymnt_amnt\"]=test[\"last_pymnt_amnt\"].apply(lambda x:test[\"last_pymnt_amnt\"].median() if x>25000 else x)"
   ]
  },
  {
   "cell_type": "code",
   "execution_count": null,
   "metadata": {
    "id": "A04lOEZj-jv5"
   },
   "outputs": [],
   "source": [
    "train.drop(\"next_pymnt_d\",1,inplace=True)\n",
    "test.drop(\"next_pymnt_d\",1,inplace=True)"
   ]
  },
  {
   "cell_type": "markdown",
   "metadata": {
    "id": "Siql4wpx_FcI"
   },
   "source": [
    "## 'last_credit_pull_d'"
   ]
  },
  {
   "cell_type": "code",
   "execution_count": null,
   "metadata": {
    "id": "KIOEwAgh-3u9"
   },
   "outputs": [],
   "source": [
    "train[\"last_credit_pull_d\"].fillna(train[\"last_credit_pull_d\"].mode()[0],inplace=True)\n",
    "test[\"last_credit_pull_d\"].fillna(test[\"last_credit_pull_d\"].mode()[0],inplace=True)"
   ]
  },
  {
   "cell_type": "code",
   "execution_count": null,
   "metadata": {
    "id": "hu7Wnjg9_L30"
   },
   "outputs": [],
   "source": [
    "train[\"last_credit_pull_d\"]=le.fit_transform(train[\"last_credit_pull_d\"])\n",
    "test[\"last_credit_pull_d\"]=le.fit_transform(test[\"last_credit_pull_d\"])"
   ]
  },
  {
   "cell_type": "code",
   "execution_count": null,
   "metadata": {
    "colab": {
     "base_uri": "https://localhost:8080/"
    },
    "id": "938-9w_q_Y7U",
    "outputId": "93409782-b07d-497d-ec30-0f19957078e7"
   },
   "outputs": [
    {
     "data": {
      "text/plain": [
       "39    1013\n",
       "27     190\n",
       "38     130\n",
       "37     128\n",
       "30      77\n",
       "34      63\n",
       "35      54\n",
       "36      48\n",
       "32      47\n",
       "26      45\n",
       "23      43\n",
       "29      38\n",
       "33      37\n",
       "16      33\n",
       "24      32\n",
       "22      31\n",
       "25      29\n",
       "28      29\n",
       "14      28\n",
       "18      27\n",
       "19      26\n",
       "13      25\n",
       "15      24\n",
       "17      23\n",
       "11      21\n",
       "21      20\n",
       "3       18\n",
       "20      14\n",
       "7        9\n",
       "31       8\n",
       "1        7\n",
       "6        7\n",
       "4        7\n",
       "5        6\n",
       "2        5\n",
       "10       4\n",
       "9        3\n",
       "12       3\n",
       "8        2\n",
       "0        2\n",
       "Name: last_credit_pull_d, dtype: int64"
      ]
     },
     "execution_count": 666,
     "metadata": {
      "tags": []
     },
     "output_type": "execute_result"
    }
   ],
   "source": [
    "train[\"last_credit_pull_d\"].value_counts()"
   ]
  },
  {
   "cell_type": "markdown",
   "metadata": {
    "id": "YNyqvBWTRqgK"
   },
   "source": [
    "# Splitting data w.r.t both targets"
   ]
  },
  {
   "cell_type": "code",
   "execution_count": null,
   "metadata": {
    "id": "ayYRIK8A_b4a"
   },
   "outputs": [],
   "source": [
    "trainA=train.drop(\"Target B\",1)\n",
    "testA=test.drop(\"Target B\",1)"
   ]
  },
  {
   "cell_type": "code",
   "execution_count": null,
   "metadata": {
    "id": "fOOB0mjoR6Ky"
   },
   "outputs": [],
   "source": [
    "trainB=train.drop(\"Target A\",1)\n",
    "testB=test.drop(\"Target A\",1)"
   ]
  },
  {
   "cell_type": "markdown",
   "metadata": {
    "id": "BSwaAOqBSQ80"
   },
   "source": [
    "# Correlation filter"
   ]
  },
  {
   "cell_type": "code",
   "execution_count": null,
   "metadata": {
    "colab": {
     "base_uri": "https://localhost:8080/",
     "height": 147
    },
    "id": "PCqTJ4BbR74M",
    "outputId": "1395b1d6-fc67-47ca-8f9f-19b98a6cc142"
   },
   "outputs": [
    {
     "data": {
      "text/html": [
       "<div>\n",
       "<style scoped>\n",
       "    .dataframe tbody tr th:only-of-type {\n",
       "        vertical-align: middle;\n",
       "    }\n",
       "\n",
       "    .dataframe tbody tr th {\n",
       "        vertical-align: top;\n",
       "    }\n",
       "\n",
       "    .dataframe thead th {\n",
       "        text-align: right;\n",
       "    }\n",
       "</style>\n",
       "<table border=\"1\" class=\"dataframe\">\n",
       "  <thead>\n",
       "    <tr style=\"text-align: right;\">\n",
       "      <th></th>\n",
       "      <th>Target A</th>\n",
       "      <th>LOAN_AMT</th>\n",
       "      <th>Business Title</th>\n",
       "      <th>Civil Service Title</th>\n",
       "      <th>Division/Work Unit</th>\n",
       "      <th>Job Description</th>\n",
       "      <th>Minimum Qual Requirements</th>\n",
       "      <th>Preferred Skills</th>\n",
       "      <th>Additional Information</th>\n",
       "      <th>To Apply</th>\n",
       "      <th>Hours/Shift</th>\n",
       "      <th>Residency Requirement</th>\n",
       "      <th>FormalEducation</th>\n",
       "      <th>UndergradMajor</th>\n",
       "      <th>CompanySize</th>\n",
       "      <th>DevType</th>\n",
       "      <th>YearsCoding</th>\n",
       "      <th>YearsCodingProf</th>\n",
       "      <th>HopeFiveYears</th>\n",
       "      <th>JobSearchStatus</th>\n",
       "      <th>LastNewJob</th>\n",
       "      <th>UpdateCV</th>\n",
       "      <th>CommunicationTools</th>\n",
       "      <th>TimeFullyProductive</th>\n",
       "      <th>EducationTypes</th>\n",
       "      <th>SelfTaughtTypes</th>\n",
       "      <th>TimeAfterBootcamp</th>\n",
       "      <th>HackathonReasons</th>\n",
       "      <th>AgreeDisagree1</th>\n",
       "      <th>AgreeDisagree2</th>\n",
       "      <th>AgreeDisagree3</th>\n",
       "      <th>LanguageWorkedWith</th>\n",
       "      <th>LanguageDesireNextYear</th>\n",
       "      <th>DatabaseWorkedWith</th>\n",
       "      <th>DatabaseDesireNextYear</th>\n",
       "      <th>PlatformWorkedWith</th>\n",
       "      <th>PlatformDesireNextYear</th>\n",
       "      <th>FrameworkWorkedWith</th>\n",
       "      <th>FrameworkDesireNextYear</th>\n",
       "      <th>IDE</th>\n",
       "      <th>OperatingSystem</th>\n",
       "      <th>Methodology</th>\n",
       "      <th>VersionControl</th>\n",
       "      <th>CheckInCode</th>\n",
       "      <th>AIDangerous</th>\n",
       "      <th>AIInteresting</th>\n",
       "      <th>AIResponsible</th>\n",
       "      <th>AIFuture</th>\n",
       "      <th>Age</th>\n",
       "      <th>term</th>\n",
       "      <th>emp_length</th>\n",
       "      <th>loan_status</th>\n",
       "      <th>pymnt_plan</th>\n",
       "      <th>url</th>\n",
       "      <th>purpose</th>\n",
       "      <th>title</th>\n",
       "      <th>zip_code</th>\n",
       "      <th>addr_state</th>\n",
       "      <th>dti</th>\n",
       "      <th>earliest_cr_line</th>\n",
       "      <th>last_pymnt_d</th>\n",
       "      <th>last_pymnt_amnt</th>\n",
       "      <th>last_credit_pull_d</th>\n",
       "    </tr>\n",
       "  </thead>\n",
       "  <tbody>\n",
       "    <tr>\n",
       "      <th>Target A</th>\n",
       "      <td>1.0</td>\n",
       "      <td>0.008149</td>\n",
       "      <td>0.056313</td>\n",
       "      <td>0.241179</td>\n",
       "      <td>0.020719</td>\n",
       "      <td>0.029301</td>\n",
       "      <td>0.107031</td>\n",
       "      <td>0.075785</td>\n",
       "      <td>0.007292</td>\n",
       "      <td>0.044701</td>\n",
       "      <td>0.015468</td>\n",
       "      <td>0.179229</td>\n",
       "      <td>0.032303</td>\n",
       "      <td>0.029582</td>\n",
       "      <td>0.004545</td>\n",
       "      <td>0.032449</td>\n",
       "      <td>0.039458</td>\n",
       "      <td>0.014834</td>\n",
       "      <td>0.004942</td>\n",
       "      <td>0.017511</td>\n",
       "      <td>0.018888</td>\n",
       "      <td>0.009392</td>\n",
       "      <td>0.016697</td>\n",
       "      <td>0.038769</td>\n",
       "      <td>0.004485</td>\n",
       "      <td>0.020374</td>\n",
       "      <td>0.010616</td>\n",
       "      <td>0.002192</td>\n",
       "      <td>0.021431</td>\n",
       "      <td>0.017653</td>\n",
       "      <td>0.00341</td>\n",
       "      <td>0.014313</td>\n",
       "      <td>0.006221</td>\n",
       "      <td>0.02854</td>\n",
       "      <td>0.027865</td>\n",
       "      <td>0.000348</td>\n",
       "      <td>0.012116</td>\n",
       "      <td>0.017552</td>\n",
       "      <td>0.029908</td>\n",
       "      <td>0.02434</td>\n",
       "      <td>0.016357</td>\n",
       "      <td>0.010529</td>\n",
       "      <td>0.054841</td>\n",
       "      <td>0.015689</td>\n",
       "      <td>0.010981</td>\n",
       "      <td>0.011512</td>\n",
       "      <td>0.012711</td>\n",
       "      <td>0.02167</td>\n",
       "      <td>0.017051</td>\n",
       "      <td>0.019071</td>\n",
       "      <td>0.007264</td>\n",
       "      <td>0.00818</td>\n",
       "      <td>NaN</td>\n",
       "      <td>0.003706</td>\n",
       "      <td>0.008809</td>\n",
       "      <td>0.01024</td>\n",
       "      <td>0.0184</td>\n",
       "      <td>0.041297</td>\n",
       "      <td>0.007256</td>\n",
       "      <td>0.007137</td>\n",
       "      <td>0.00855</td>\n",
       "      <td>0.017485</td>\n",
       "      <td>0.009465</td>\n",
       "    </tr>\n",
       "  </tbody>\n",
       "</table>\n",
       "</div>"
      ],
      "text/plain": [
       "          Target A  LOAN_AMT  ...  last_pymnt_amnt  last_credit_pull_d\n",
       "Target A       1.0  0.008149  ...         0.017485            0.009465\n",
       "\n",
       "[1 rows x 63 columns]"
      ]
     },
     "execution_count": 669,
     "metadata": {
      "tags": []
     },
     "output_type": "execute_result"
    }
   ],
   "source": [
    "corr_trainA=trainA.corr().abs()[\"Target A\"]\n",
    "corr_trainA=pd.DataFrame(corr_trainA)\n",
    "corr_trainA=corr_trainA.T\n",
    "corr_trainA"
   ]
  },
  {
   "cell_type": "code",
   "execution_count": null,
   "metadata": {
    "colab": {
     "base_uri": "https://localhost:8080/"
    },
    "id": "p9-k9IpvSVP7",
    "outputId": "5cf0473e-6f9b-4e9b-9fec-93bc7257efa8"
   },
   "outputs": [
    {
     "data": {
      "text/plain": [
       "['LOAN_AMT',\n",
       " 'Division/Work Unit',\n",
       " 'Job Description',\n",
       " 'Additional Information',\n",
       " 'To Apply',\n",
       " 'Hours/Shift',\n",
       " 'FormalEducation',\n",
       " 'UndergradMajor',\n",
       " 'CompanySize',\n",
       " 'DevType',\n",
       " 'YearsCoding',\n",
       " 'YearsCodingProf',\n",
       " 'HopeFiveYears',\n",
       " 'JobSearchStatus',\n",
       " 'LastNewJob',\n",
       " 'UpdateCV',\n",
       " 'CommunicationTools',\n",
       " 'TimeFullyProductive',\n",
       " 'EducationTypes',\n",
       " 'SelfTaughtTypes',\n",
       " 'TimeAfterBootcamp',\n",
       " 'HackathonReasons',\n",
       " 'AgreeDisagree1',\n",
       " 'AgreeDisagree2',\n",
       " 'AgreeDisagree3',\n",
       " 'LanguageWorkedWith',\n",
       " 'LanguageDesireNextYear',\n",
       " 'DatabaseWorkedWith',\n",
       " 'DatabaseDesireNextYear',\n",
       " 'PlatformWorkedWith',\n",
       " 'PlatformDesireNextYear',\n",
       " 'FrameworkWorkedWith',\n",
       " 'FrameworkDesireNextYear',\n",
       " 'IDE',\n",
       " 'OperatingSystem',\n",
       " 'Methodology',\n",
       " 'CheckInCode',\n",
       " 'AIDangerous',\n",
       " 'AIInteresting',\n",
       " 'AIResponsible',\n",
       " 'AIFuture',\n",
       " 'Age',\n",
       " 'term',\n",
       " 'emp_length',\n",
       " 'loan_status',\n",
       " 'url',\n",
       " 'purpose',\n",
       " 'title',\n",
       " 'zip_code',\n",
       " 'addr_state',\n",
       " 'dti',\n",
       " 'earliest_cr_line',\n",
       " 'last_pymnt_d',\n",
       " 'last_pymnt_amnt',\n",
       " 'last_credit_pull_d']"
      ]
     },
     "execution_count": 670,
     "metadata": {
      "tags": []
     },
     "output_type": "execute_result"
    }
   ],
   "source": [
    "drop_A=[column for column in corr_trainA.columns if any(corr_trainA[column]<0.05)]\n",
    "drop_A"
   ]
  },
  {
   "cell_type": "code",
   "execution_count": null,
   "metadata": {
    "id": "icO0pyvCTkF_"
   },
   "outputs": [],
   "source": [
    "trainA=trainA.drop(drop_A,1)\n",
    "testA=testA.drop(drop_A,1)"
   ]
  },
  {
   "cell_type": "code",
   "execution_count": null,
   "metadata": {
    "colab": {
     "base_uri": "https://localhost:8080/",
     "height": 147
    },
    "id": "eCmnYIooTuWW",
    "outputId": "d9c40c13-f31e-463d-da2f-c674aa991995"
   },
   "outputs": [
    {
     "data": {
      "text/html": [
       "<div>\n",
       "<style scoped>\n",
       "    .dataframe tbody tr th:only-of-type {\n",
       "        vertical-align: middle;\n",
       "    }\n",
       "\n",
       "    .dataframe tbody tr th {\n",
       "        vertical-align: top;\n",
       "    }\n",
       "\n",
       "    .dataframe thead th {\n",
       "        text-align: right;\n",
       "    }\n",
       "</style>\n",
       "<table border=\"1\" class=\"dataframe\">\n",
       "  <thead>\n",
       "    <tr style=\"text-align: right;\">\n",
       "      <th></th>\n",
       "      <th>Target B</th>\n",
       "      <th>LOAN_AMT</th>\n",
       "      <th>Business Title</th>\n",
       "      <th>Civil Service Title</th>\n",
       "      <th>Division/Work Unit</th>\n",
       "      <th>Job Description</th>\n",
       "      <th>Minimum Qual Requirements</th>\n",
       "      <th>Preferred Skills</th>\n",
       "      <th>Additional Information</th>\n",
       "      <th>To Apply</th>\n",
       "      <th>Hours/Shift</th>\n",
       "      <th>Residency Requirement</th>\n",
       "      <th>FormalEducation</th>\n",
       "      <th>UndergradMajor</th>\n",
       "      <th>CompanySize</th>\n",
       "      <th>DevType</th>\n",
       "      <th>YearsCoding</th>\n",
       "      <th>YearsCodingProf</th>\n",
       "      <th>HopeFiveYears</th>\n",
       "      <th>JobSearchStatus</th>\n",
       "      <th>LastNewJob</th>\n",
       "      <th>UpdateCV</th>\n",
       "      <th>CommunicationTools</th>\n",
       "      <th>TimeFullyProductive</th>\n",
       "      <th>EducationTypes</th>\n",
       "      <th>SelfTaughtTypes</th>\n",
       "      <th>TimeAfterBootcamp</th>\n",
       "      <th>HackathonReasons</th>\n",
       "      <th>AgreeDisagree1</th>\n",
       "      <th>AgreeDisagree2</th>\n",
       "      <th>AgreeDisagree3</th>\n",
       "      <th>LanguageWorkedWith</th>\n",
       "      <th>LanguageDesireNextYear</th>\n",
       "      <th>DatabaseWorkedWith</th>\n",
       "      <th>DatabaseDesireNextYear</th>\n",
       "      <th>PlatformWorkedWith</th>\n",
       "      <th>PlatformDesireNextYear</th>\n",
       "      <th>FrameworkWorkedWith</th>\n",
       "      <th>FrameworkDesireNextYear</th>\n",
       "      <th>IDE</th>\n",
       "      <th>OperatingSystem</th>\n",
       "      <th>Methodology</th>\n",
       "      <th>VersionControl</th>\n",
       "      <th>CheckInCode</th>\n",
       "      <th>AIDangerous</th>\n",
       "      <th>AIInteresting</th>\n",
       "      <th>AIResponsible</th>\n",
       "      <th>AIFuture</th>\n",
       "      <th>Age</th>\n",
       "      <th>term</th>\n",
       "      <th>emp_length</th>\n",
       "      <th>loan_status</th>\n",
       "      <th>pymnt_plan</th>\n",
       "      <th>url</th>\n",
       "      <th>purpose</th>\n",
       "      <th>title</th>\n",
       "      <th>zip_code</th>\n",
       "      <th>addr_state</th>\n",
       "      <th>dti</th>\n",
       "      <th>earliest_cr_line</th>\n",
       "      <th>last_pymnt_d</th>\n",
       "      <th>last_pymnt_amnt</th>\n",
       "      <th>last_credit_pull_d</th>\n",
       "    </tr>\n",
       "  </thead>\n",
       "  <tbody>\n",
       "    <tr>\n",
       "      <th>Target B</th>\n",
       "      <td>1.0</td>\n",
       "      <td>0.050552</td>\n",
       "      <td>0.01152</td>\n",
       "      <td>0.023464</td>\n",
       "      <td>0.007408</td>\n",
       "      <td>0.004561</td>\n",
       "      <td>0.027178</td>\n",
       "      <td>0.003353</td>\n",
       "      <td>0.011315</td>\n",
       "      <td>0.016987</td>\n",
       "      <td>0.001444</td>\n",
       "      <td>0.00655</td>\n",
       "      <td>0.00278</td>\n",
       "      <td>0.036292</td>\n",
       "      <td>0.002842</td>\n",
       "      <td>0.002014</td>\n",
       "      <td>0.021619</td>\n",
       "      <td>0.004756</td>\n",
       "      <td>0.004971</td>\n",
       "      <td>0.006632</td>\n",
       "      <td>0.022537</td>\n",
       "      <td>0.012938</td>\n",
       "      <td>0.039933</td>\n",
       "      <td>0.025354</td>\n",
       "      <td>0.008406</td>\n",
       "      <td>0.000049</td>\n",
       "      <td>0.015591</td>\n",
       "      <td>0.003823</td>\n",
       "      <td>0.01321</td>\n",
       "      <td>0.026063</td>\n",
       "      <td>0.011538</td>\n",
       "      <td>0.002391</td>\n",
       "      <td>0.005328</td>\n",
       "      <td>0.006962</td>\n",
       "      <td>0.002186</td>\n",
       "      <td>0.021241</td>\n",
       "      <td>0.006451</td>\n",
       "      <td>0.016626</td>\n",
       "      <td>0.003577</td>\n",
       "      <td>0.000018</td>\n",
       "      <td>0.029196</td>\n",
       "      <td>0.012357</td>\n",
       "      <td>0.016912</td>\n",
       "      <td>0.002749</td>\n",
       "      <td>0.024622</td>\n",
       "      <td>0.009433</td>\n",
       "      <td>0.003272</td>\n",
       "      <td>0.002055</td>\n",
       "      <td>0.005118</td>\n",
       "      <td>0.037387</td>\n",
       "      <td>0.032815</td>\n",
       "      <td>0.014505</td>\n",
       "      <td>NaN</td>\n",
       "      <td>0.075226</td>\n",
       "      <td>0.090384</td>\n",
       "      <td>0.018355</td>\n",
       "      <td>0.036884</td>\n",
       "      <td>0.022444</td>\n",
       "      <td>0.004431</td>\n",
       "      <td>0.055499</td>\n",
       "      <td>0.033325</td>\n",
       "      <td>0.051835</td>\n",
       "      <td>0.016546</td>\n",
       "    </tr>\n",
       "  </tbody>\n",
       "</table>\n",
       "</div>"
      ],
      "text/plain": [
       "          Target B  LOAN_AMT  ...  last_pymnt_amnt  last_credit_pull_d\n",
       "Target B       1.0  0.050552  ...         0.051835            0.016546\n",
       "\n",
       "[1 rows x 63 columns]"
      ]
     },
     "execution_count": 672,
     "metadata": {
      "tags": []
     },
     "output_type": "execute_result"
    }
   ],
   "source": [
    "corr_trainB=trainB.corr().abs()[\"Target B\"]\n",
    "corr_trainB=pd.DataFrame(corr_trainB)\n",
    "corr_trainB=corr_trainB.T\n",
    "corr_trainB"
   ]
  },
  {
   "cell_type": "code",
   "execution_count": null,
   "metadata": {
    "colab": {
     "base_uri": "https://localhost:8080/"
    },
    "id": "hGivRtg3Vz5n",
    "outputId": "b1117ecb-4dcf-4b12-cf52-e89b5e3a61cc"
   },
   "outputs": [
    {
     "data": {
      "text/plain": [
       "['LOAN_AMT',\n",
       " 'Division/Work Unit',\n",
       " 'Job Description',\n",
       " 'Additional Information',\n",
       " 'To Apply',\n",
       " 'Hours/Shift',\n",
       " 'FormalEducation',\n",
       " 'UndergradMajor',\n",
       " 'CompanySize',\n",
       " 'DevType',\n",
       " 'YearsCoding',\n",
       " 'YearsCodingProf',\n",
       " 'HopeFiveYears',\n",
       " 'JobSearchStatus',\n",
       " 'LastNewJob',\n",
       " 'UpdateCV',\n",
       " 'CommunicationTools',\n",
       " 'TimeFullyProductive',\n",
       " 'EducationTypes',\n",
       " 'SelfTaughtTypes',\n",
       " 'TimeAfterBootcamp',\n",
       " 'HackathonReasons',\n",
       " 'AgreeDisagree1',\n",
       " 'AgreeDisagree2',\n",
       " 'AgreeDisagree3',\n",
       " 'LanguageWorkedWith',\n",
       " 'LanguageDesireNextYear',\n",
       " 'DatabaseWorkedWith',\n",
       " 'DatabaseDesireNextYear',\n",
       " 'PlatformWorkedWith',\n",
       " 'PlatformDesireNextYear',\n",
       " 'FrameworkWorkedWith',\n",
       " 'FrameworkDesireNextYear',\n",
       " 'IDE',\n",
       " 'OperatingSystem',\n",
       " 'Methodology',\n",
       " 'CheckInCode',\n",
       " 'AIDangerous',\n",
       " 'AIInteresting',\n",
       " 'AIResponsible',\n",
       " 'AIFuture',\n",
       " 'Age',\n",
       " 'term',\n",
       " 'emp_length',\n",
       " 'loan_status',\n",
       " 'url',\n",
       " 'purpose',\n",
       " 'title',\n",
       " 'zip_code',\n",
       " 'addr_state',\n",
       " 'dti',\n",
       " 'earliest_cr_line',\n",
       " 'last_pymnt_d',\n",
       " 'last_pymnt_amnt',\n",
       " 'last_credit_pull_d']"
      ]
     },
     "execution_count": 673,
     "metadata": {
      "tags": []
     },
     "output_type": "execute_result"
    }
   ],
   "source": [
    "drop_B=[column for column in corr_trainA.columns if any(corr_trainA[column]<0.05)]\n",
    "drop_B"
   ]
  },
  {
   "cell_type": "code",
   "execution_count": null,
   "metadata": {
    "id": "73R2b3Q1V_aX"
   },
   "outputs": [],
   "source": [
    "trainB=trainB.drop(drop_B,1)\n",
    "testB=testB.drop(drop_B,1)"
   ]
  },
  {
   "cell_type": "code",
   "execution_count": null,
   "metadata": {
    "colab": {
     "base_uri": "https://localhost:8080/"
    },
    "id": "gGMqCYduWEFh",
    "outputId": "b4f3c1e2-1b97-4d25-b809-2a6281b64af7"
   },
   "outputs": [
    {
     "data": {
      "text/plain": [
       "((2356, 8), (590, 8))"
      ]
     },
     "execution_count": 675,
     "metadata": {
      "tags": []
     },
     "output_type": "execute_result"
    }
   ],
   "source": [
    "trainA.shape,testA.shape"
   ]
  },
  {
   "cell_type": "code",
   "execution_count": null,
   "metadata": {
    "colab": {
     "base_uri": "https://localhost:8080/"
    },
    "id": "v-SzCdgHWOdN",
    "outputId": "ef2fe767-975a-4ecf-b1d3-508d567247bb"
   },
   "outputs": [
    {
     "data": {
      "text/plain": [
       "((2356, 8), (590, 8))"
      ]
     },
     "execution_count": 676,
     "metadata": {
      "tags": []
     },
     "output_type": "execute_result"
    }
   ],
   "source": [
    "trainB.shape,testB.shape"
   ]
  },
  {
   "cell_type": "markdown",
   "metadata": {
    "id": "3ewOtAViZndU"
   },
   "source": [
    "# 'Evaluation Metric'"
   ]
  },
  {
   "cell_type": "code",
   "execution_count": null,
   "metadata": {
    "id": "1SExXtRsZCYB"
   },
   "outputs": [],
   "source": [
    "from sklearn.metrics import mean_squared_error as mse\n",
    "def rmse(true,pred):\n",
    "    return np.sqrt(mse(true,pred))"
   ]
  },
  {
   "cell_type": "code",
   "execution_count": null,
   "metadata": {
    "id": "18mPD7YcY9Oa"
   },
   "outputs": [],
   "source": [
    "from sklearn.metrics import f1_score"
   ]
  },
  {
   "cell_type": "markdown",
   "metadata": {
    "id": "rDkva8hnbRcf"
   },
   "source": [
    "# KFold cross validation"
   ]
  },
  {
   "cell_type": "code",
   "execution_count": null,
   "metadata": {
    "id": "N1W84GPobP-b"
   },
   "outputs": [],
   "source": [
    "from sklearn.model_selection import KFold\n",
    "\n",
    "def kfoldpredA(model):\n",
    "    kfold=KFold(5,random_state=20,shuffle=True)\n",
    "    scores=[]\n",
    "    for i,j in kfold.split(x_trainA,y_trainA):\n",
    "        x_train,x_test=x_trainA.iloc[i],x_trainA.iloc[j]\n",
    "        y_train,y_test=y_trainA.iloc[i],y_trainA.iloc[j]\n",
    "        model.fit(x_train,y_train)\n",
    "        foldpredA=model.predict(x_train)\n",
    "        scores.append(rmse(foldpredA,y_train))\n",
    "    return np.mean(scores)\n",
    "\n",
    "def kfoldpredB(model):\n",
    "    kfold=KFold(5,random_state=20,shuffle=True)\n",
    "    scores=[]\n",
    "    for i,j in kfold.split(x_trainB,y_trainB):\n",
    "        x_train,x_test=x_trainB.iloc[i],x_trainB.iloc[j]\n",
    "        y_train,y_test=y_trainB.iloc[i],y_trainB.iloc[j]\n",
    "        model.fit(x_train,y_train)\n",
    "        foldpredB=model.predict(x_train)\n",
    "        scores.append(f1_score(foldpredB,y_train,average='weighted'))\n",
    "    return np.mean(scores)"
   ]
  },
  {
   "cell_type": "markdown",
   "metadata": {
    "id": "YpsibnVX32y4"
   },
   "source": [
    "# Splitting into x and y"
   ]
  },
  {
   "cell_type": "code",
   "execution_count": null,
   "metadata": {
    "id": "k1z_qtJu36H9"
   },
   "outputs": [],
   "source": [
    "y_trainA=trainA[\"Target A\"]\n",
    "x_trainA=trainA.drop(\"Target A\",1)\n",
    "\n",
    "y_testA=testA[\"Target A\"]\n",
    "x_testA=testA.drop(\"Target A\",1)\n",
    "\n",
    "y_trainB=trainB[\"Target B\"]\n",
    "x_trainB=trainB.drop(\"Target B\",1)\n",
    "\n",
    "y_testB=testB[\"Target B\"]\n",
    "x_testB=testB.drop(\"Target B\",1)"
   ]
  },
  {
   "cell_type": "markdown",
   "metadata": {
    "id": "3TTxeS7T82Dl"
   },
   "source": [
    "# Scaling the data"
   ]
  },
  {
   "cell_type": "code",
   "execution_count": null,
   "metadata": {
    "id": "QjOG246z85m_"
   },
   "outputs": [],
   "source": [
    "from sklearn.preprocessing import StandardScaler\n",
    "ss=StandardScaler()\n",
    "\n",
    "scaled_x_trainA=ss.fit_transform(x_trainA)\n",
    "x_trainA=pd.DataFrame(scaled_x_trainA,columns=x_trainA.columns)\n",
    "\n",
    "scaled_x_trainB=ss.fit_transform(x_trainB)\n",
    "x_trainB=pd.DataFrame(scaled_x_trainB,columns=x_trainB.columns)\n",
    "\n",
    "scaled_x_testA=ss.fit_transform(x_testA)\n",
    "x_testA=pd.DataFrame(scaled_x_testA,columns=x_testA.columns)\n",
    "\n",
    "scaled_x_testB=ss.fit_transform(x_testB)\n",
    "x_testB=pd.DataFrame(scaled_x_testB,columns=x_testB.columns)"
   ]
  },
  {
   "cell_type": "markdown",
   "metadata": {
    "id": "6xARuIGTQPJj"
   },
   "source": [
    "# Model Building for 'Target A'"
   ]
  },
  {
   "cell_type": "markdown",
   "metadata": {
    "id": "spM_g8J2TdSI"
   },
   "source": [
    "## Linear Regression\n",
    "\n"
   ]
  },
  {
   "cell_type": "code",
   "execution_count": null,
   "metadata": {
    "colab": {
     "base_uri": "https://localhost:8080/"
    },
    "id": "cO4NuO9UTiw7",
    "outputId": "65991d14-9955-4674-f666-fe189d7c7aed"
   },
   "outputs": [
    {
     "name": "stdout",
     "output_type": "stream",
     "text": [
      "Training error= 26114.99325364563\n",
      "Test error= 23340.78161162777\n"
     ]
    }
   ],
   "source": [
    "from sklearn.linear_model import LinearRegression\n",
    "lrr=LinearRegression()\n",
    "\n",
    "train_lrr=kfoldpredA(lrr)\n",
    "\n",
    "tlrr=lrr.predict(x_testA)\n",
    "tlrr=pd.DataFrame(tlrr,columns=[\"pred\"])\n",
    "print(\"Training error=\",train_lrr)\n",
    "print(\"Test error=\",rmse(tlrr,y_testA))"
   ]
  },
  {
   "cell_type": "markdown",
   "metadata": {
    "id": "JSc7As4BUHL4"
   },
   "source": [
    "## Knn Regressor"
   ]
  },
  {
   "cell_type": "code",
   "execution_count": null,
   "metadata": {
    "colab": {
     "base_uri": "https://localhost:8080/"
    },
    "id": "8SXERrscULLe",
    "outputId": "0860ff8d-fddb-4e3e-90a4-a365873121e4"
   },
   "outputs": [
    {
     "name": "stdout",
     "output_type": "stream",
     "text": [
      "Training error= 19044.79585381942\n",
      "Test error= 21534.845774357593\n"
     ]
    }
   ],
   "source": [
    "from sklearn.neighbors import KNeighborsRegressor\n",
    "knr=KNeighborsRegressor(n_neighbors=5)\n",
    "\n",
    "train_knr=kfoldpredA(knr)\n",
    "\n",
    "tknr=knr.predict(x_testA)\n",
    "tknr=pd.DataFrame(tknr,columns=[\"pred\"])\n",
    "print(\"Training error=\",train_knr)\n",
    "print(\"Test error=\",rmse(tknr,y_testA))"
   ]
  },
  {
   "cell_type": "markdown",
   "metadata": {
    "id": "dV8rSIm5UlPw"
   },
   "source": [
    "## Decision Tree Regressor"
   ]
  },
  {
   "cell_type": "code",
   "execution_count": null,
   "metadata": {
    "colab": {
     "base_uri": "https://localhost:8080/"
    },
    "id": "7rRTXTE7Urdh",
    "outputId": "ccf00644-a667-4b0d-f512-2c4fbff00ebf"
   },
   "outputs": [
    {
     "name": "stdout",
     "output_type": "stream",
     "text": [
      "Training error= 21902.99149581075\n",
      "Test error= 28323.45792103646\n"
     ]
    }
   ],
   "source": [
    "from sklearn.tree import DecisionTreeRegressor\n",
    "dtr=DecisionTreeRegressor(max_depth=7,max_leaf_nodes=10)\n",
    "\n",
    "train_dtr=kfoldpredA(dtr)\n",
    "\n",
    "tdtr=dtr.predict(x_testA)\n",
    "tdtr=pd.DataFrame(tdtr,columns=[\"pred\"])\n",
    "print(\"Training error=\",train_dtr)\n",
    "print(\"Test error=\",rmse(tdtr,y_testA))"
   ]
  },
  {
   "cell_type": "markdown",
   "metadata": {
    "id": "EXAi-y5eVQM4"
   },
   "source": [
    "## Random Forest Regressor"
   ]
  },
  {
   "cell_type": "code",
   "execution_count": null,
   "metadata": {
    "colab": {
     "base_uri": "https://localhost:8080/"
    },
    "id": "Uxfg7o_p3p9P",
    "outputId": "9cbce273-bc9d-436c-ad52-b2fb414960d0"
   },
   "outputs": [
    {
     "name": "stdout",
     "output_type": "stream",
     "text": [
      "Training error= 15897.97835805874\n",
      "Test error= 23692.627337232818\n"
     ]
    }
   ],
   "source": [
    "from sklearn.ensemble import RandomForestRegressor\n",
    "rfr=RandomForestRegressor(max_depth=7)\n",
    "\n",
    "train_rfr=kfoldpredA(rfr)\n",
    "\n",
    "trfr=rfr.predict(x_testA)\n",
    "trfr=pd.DataFrame(trfr,columns=[\"pred\"])\n",
    "print(\"Training error=\",train_rfr)\n",
    "print(\"Test error=\",rmse(trfr,y_testA))"
   ]
  },
  {
   "cell_type": "markdown",
   "metadata": {
    "id": "yz28c7JUWOXG"
   },
   "source": [
    "## XGBoost Regressor"
   ]
  },
  {
   "cell_type": "code",
   "execution_count": null,
   "metadata": {
    "colab": {
     "base_uri": "https://localhost:8080/"
    },
    "id": "sHY6RMYESFqV",
    "outputId": "c3521b10-3da7-4790-e92b-03b9718991c2"
   },
   "outputs": [
    {
     "name": "stdout",
     "output_type": "stream",
     "text": [
      "[02:55:40] WARNING: /workspace/src/objective/regression_obj.cu:152: reg:linear is now deprecated in favor of reg:squarederror.\n",
      "[02:55:40] WARNING: /workspace/src/objective/regression_obj.cu:152: reg:linear is now deprecated in favor of reg:squarederror.\n",
      "[02:55:40] WARNING: /workspace/src/objective/regression_obj.cu:152: reg:linear is now deprecated in favor of reg:squarederror.\n",
      "[02:55:41] WARNING: /workspace/src/objective/regression_obj.cu:152: reg:linear is now deprecated in favor of reg:squarederror.\n",
      "[02:55:41] WARNING: /workspace/src/objective/regression_obj.cu:152: reg:linear is now deprecated in favor of reg:squarederror.\n"
     ]
    }
   ],
   "source": [
    "from xgboost import XGBRegressor\n",
    "xgr=XGBRegressor(max_depth=10)\n",
    "\n",
    "train_xgr=kfoldpredA(xgr)\n",
    "\n",
    "txgr=xgr.predict(x_testA)\n",
    "txgr=pd.DataFrame(txgr,columns=[\"pred\"])"
   ]
  },
  {
   "cell_type": "code",
   "execution_count": null,
   "metadata": {
    "colab": {
     "base_uri": "https://localhost:8080/"
    },
    "id": "ZNGytnYZAvrW",
    "outputId": "b570d4e2-1fd2-49cf-eaad-ed10546318d6"
   },
   "outputs": [
    {
     "name": "stdout",
     "output_type": "stream",
     "text": [
      "Training error= 3341.412072048844\n",
      "Test error= 21563.853450176823\n"
     ]
    }
   ],
   "source": [
    "print(\"Training error=\",train_xgr)\n",
    "print(\"Test error=\",rmse(txgr,y_testA))"
   ]
  },
  {
   "cell_type": "markdown",
   "metadata": {
    "id": "l_I4KXqbXWuA"
   },
   "source": [
    "## Ensembling the models"
   ]
  },
  {
   "cell_type": "code",
   "execution_count": null,
   "metadata": {
    "colab": {
     "base_uri": "https://localhost:8080/"
    },
    "id": "lZHd1U-BWv21",
    "outputId": "f8d44beb-7098-4e8d-8ba4-8bf3443e2020"
   },
   "outputs": [
    {
     "name": "stdout",
     "output_type": "stream",
     "text": [
      "Final Test error= 20911.35547306985\n"
     ]
    }
   ],
   "source": [
    "predictionsA=[]\n",
    "\n",
    "for i in range(0,len(x_testA)):\n",
    "  predictionsA.append(np.mean([trfr[\"pred\"][i],tknr[\"pred\"][i]]))\n",
    "\n",
    "print(\"Final Test error=\",rmse(predictionsA,y_testA))"
   ]
  },
  {
   "cell_type": "markdown",
   "metadata": {
    "id": "9JYSBwh8Zrj_"
   },
   "source": [
    "# Model Building for 'Target B'"
   ]
  },
  {
   "cell_type": "markdown",
   "metadata": {
    "id": "HZrcSBBDE6_i"
   },
   "source": [
    "## Random Forest Classifier"
   ]
  },
  {
   "cell_type": "code",
   "execution_count": null,
   "metadata": {
    "colab": {
     "base_uri": "https://localhost:8080/"
    },
    "id": "JuI67r42EQ4L",
    "outputId": "f55570fb-ea4d-4609-c3d4-a5eb9ad5a81f"
   },
   "outputs": [
    {
     "name": "stdout",
     "output_type": "stream",
     "text": [
      "Training score= 88.12906328481509 %\n",
      "Test score= 87.68383063736547 %\n"
     ]
    }
   ],
   "source": [
    "from sklearn.ensemble import RandomForestClassifier\n",
    "rfc=RandomForestClassifier(max_depth=7)\n",
    "\n",
    "train_rfc=kfoldpredB(rfc)\n",
    "\n",
    "trfc=rfc.predict(x_testB)\n",
    "trfc=pd.DataFrame(trfc,columns=[\"pred\"])\n",
    "print(\"Training score=\",100*train_rfc,\"%\")\n",
    "print(\"Test score=\",100*f1_score(trfc,y_testB,average='weighted'),\"%\")"
   ]
  },
  {
   "cell_type": "markdown",
   "metadata": {
    "id": "JJ4OLU78n1XN"
   },
   "source": [
    "#### Thus, the test rmse error for 'Target A' is 20911.3 and the test f1_score for 'Target B' is 87.7%.\n"
   ]
  }
 ],
 "metadata": {
  "colab": {
   "collapsed_sections": [],
   "name": "tough_dataset.ipynb",
   "provenance": [],
   "toc_visible": true
  },
  "kernelspec": {
   "display_name": "Python 3",
   "language": "python",
   "name": "python3"
  },
  "language_info": {
   "codemirror_mode": {
    "name": "ipython",
    "version": 3
   },
   "file_extension": ".py",
   "mimetype": "text/x-python",
   "name": "python",
   "nbconvert_exporter": "python",
   "pygments_lexer": "ipython3",
   "version": "3.8.5"
  }
 },
 "nbformat": 4,
 "nbformat_minor": 1
}
